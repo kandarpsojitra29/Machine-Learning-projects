{
 "cells": [
  {
   "cell_type": "code",
   "execution_count": 1,
   "id": "749de70e",
   "metadata": {},
   "outputs": [],
   "source": [
    "import numpy as np\n",
    "import pandas as pd\n",
    "import matplotlib.pyplot as plt"
   ]
  },
  {
   "cell_type": "code",
   "execution_count": 2,
   "id": "67c32b78",
   "metadata": {},
   "outputs": [],
   "source": [
    "data = pd.read_csv('data_train-1.csv')"
   ]
  },
  {
   "cell_type": "code",
   "execution_count": 3,
   "id": "100dfc31",
   "metadata": {},
   "outputs": [
    {
     "data": {
      "text/html": [
       "<div>\n",
       "<style scoped>\n",
       "    .dataframe tbody tr th:only-of-type {\n",
       "        vertical-align: middle;\n",
       "    }\n",
       "\n",
       "    .dataframe tbody tr th {\n",
       "        vertical-align: top;\n",
       "    }\n",
       "\n",
       "    .dataframe thead th {\n",
       "        text-align: right;\n",
       "    }\n",
       "</style>\n",
       "<table border=\"1\" class=\"dataframe\">\n",
       "  <thead>\n",
       "    <tr style=\"text-align: right;\">\n",
       "      <th></th>\n",
       "      <th>Unnamed: 0</th>\n",
       "      <th>Loan_ID</th>\n",
       "      <th>Gender</th>\n",
       "      <th>Married</th>\n",
       "      <th>Dependents</th>\n",
       "      <th>Education</th>\n",
       "      <th>Self_Employed</th>\n",
       "      <th>ApplicantIncome</th>\n",
       "      <th>CoapplicantIncome</th>\n",
       "      <th>LoanAmount</th>\n",
       "      <th>Loan_Amount_Term</th>\n",
       "      <th>Credit_History</th>\n",
       "      <th>Property_Area</th>\n",
       "      <th>Loan_Status</th>\n",
       "    </tr>\n",
       "  </thead>\n",
       "  <tbody>\n",
       "    <tr>\n",
       "      <th>0</th>\n",
       "      <td>0</td>\n",
       "      <td>LP001518</td>\n",
       "      <td>Male</td>\n",
       "      <td>Yes</td>\n",
       "      <td>1</td>\n",
       "      <td>Graduate</td>\n",
       "      <td>No</td>\n",
       "      <td>1538</td>\n",
       "      <td>1425.0</td>\n",
       "      <td>30.0</td>\n",
       "      <td>360.0</td>\n",
       "      <td>1.0</td>\n",
       "      <td>Urban</td>\n",
       "      <td>Y</td>\n",
       "    </tr>\n",
       "    <tr>\n",
       "      <th>1</th>\n",
       "      <td>1</td>\n",
       "      <td>LP002734</td>\n",
       "      <td>Male</td>\n",
       "      <td>Yes</td>\n",
       "      <td>0</td>\n",
       "      <td>Graduate</td>\n",
       "      <td>No</td>\n",
       "      <td>6133</td>\n",
       "      <td>3906.0</td>\n",
       "      <td>324.0</td>\n",
       "      <td>360.0</td>\n",
       "      <td>1.0</td>\n",
       "      <td>Urban</td>\n",
       "      <td>Y</td>\n",
       "    </tr>\n",
       "    <tr>\n",
       "      <th>2</th>\n",
       "      <td>2</td>\n",
       "      <td>LP002697</td>\n",
       "      <td>Male</td>\n",
       "      <td>No</td>\n",
       "      <td>0</td>\n",
       "      <td>Graduate</td>\n",
       "      <td>No</td>\n",
       "      <td>4680</td>\n",
       "      <td>2087.0</td>\n",
       "      <td>NaN</td>\n",
       "      <td>360.0</td>\n",
       "      <td>1.0</td>\n",
       "      <td>Semiurban</td>\n",
       "      <td>N</td>\n",
       "    </tr>\n",
       "    <tr>\n",
       "      <th>3</th>\n",
       "      <td>3</td>\n",
       "      <td>LP002455</td>\n",
       "      <td>Male</td>\n",
       "      <td>Yes</td>\n",
       "      <td>2</td>\n",
       "      <td>Graduate</td>\n",
       "      <td>No</td>\n",
       "      <td>3859</td>\n",
       "      <td>0.0</td>\n",
       "      <td>96.0</td>\n",
       "      <td>360.0</td>\n",
       "      <td>1.0</td>\n",
       "      <td>Semiurban</td>\n",
       "      <td>Y</td>\n",
       "    </tr>\n",
       "    <tr>\n",
       "      <th>4</th>\n",
       "      <td>4</td>\n",
       "      <td>LP001732</td>\n",
       "      <td>Male</td>\n",
       "      <td>Yes</td>\n",
       "      <td>2</td>\n",
       "      <td>Graduate</td>\n",
       "      <td>NaN</td>\n",
       "      <td>5000</td>\n",
       "      <td>0.0</td>\n",
       "      <td>72.0</td>\n",
       "      <td>360.0</td>\n",
       "      <td>0.0</td>\n",
       "      <td>Semiurban</td>\n",
       "      <td>N</td>\n",
       "    </tr>\n",
       "  </tbody>\n",
       "</table>\n",
       "</div>"
      ],
      "text/plain": [
       "   Unnamed: 0   Loan_ID Gender Married Dependents Education Self_Employed  \\\n",
       "0           0  LP001518   Male     Yes          1  Graduate            No   \n",
       "1           1  LP002734   Male     Yes          0  Graduate            No   \n",
       "2           2  LP002697   Male      No          0  Graduate            No   \n",
       "3           3  LP002455   Male     Yes          2  Graduate            No   \n",
       "4           4  LP001732   Male     Yes          2  Graduate           NaN   \n",
       "\n",
       "   ApplicantIncome  CoapplicantIncome  LoanAmount  Loan_Amount_Term  \\\n",
       "0             1538             1425.0        30.0             360.0   \n",
       "1             6133             3906.0       324.0             360.0   \n",
       "2             4680             2087.0         NaN             360.0   \n",
       "3             3859                0.0        96.0             360.0   \n",
       "4             5000                0.0        72.0             360.0   \n",
       "\n",
       "   Credit_History Property_Area Loan_Status  \n",
       "0             1.0         Urban           Y  \n",
       "1             1.0         Urban           Y  \n",
       "2             1.0     Semiurban           N  \n",
       "3             1.0     Semiurban           Y  \n",
       "4             0.0     Semiurban           N  "
      ]
     },
     "execution_count": 3,
     "metadata": {},
     "output_type": "execute_result"
    }
   ],
   "source": [
    "data.head()"
   ]
  },
  {
   "cell_type": "markdown",
   "id": "e9e13b81",
   "metadata": {},
   "source": [
    "From the data, the label is the loan status which is binary and the features include gender, married, education, loan amount, etc. Some of the features have float data while some have categorical data. There appears missing values in some of the features."
   ]
  },
  {
   "cell_type": "code",
   "execution_count": 4,
   "id": "34c400cd",
   "metadata": {},
   "outputs": [
    {
     "data": {
      "text/plain": [
       "(491, 14)"
      ]
     },
     "execution_count": 4,
     "metadata": {},
     "output_type": "execute_result"
    }
   ],
   "source": [
    "data.shape"
   ]
  },
  {
   "cell_type": "markdown",
   "id": "3c4a1705",
   "metadata": {},
   "source": [
    "The data has 491 rows of data and has 14 column, of which first column consists of index and the second column consists of loan_ID. In total there are 11 features and 1 label."
   ]
  },
  {
   "cell_type": "code",
   "execution_count": 5,
   "id": "4eebd0fd",
   "metadata": {
    "scrolled": true
   },
   "outputs": [
    {
     "data": {
      "text/html": [
       "<div>\n",
       "<style scoped>\n",
       "    .dataframe tbody tr th:only-of-type {\n",
       "        vertical-align: middle;\n",
       "    }\n",
       "\n",
       "    .dataframe tbody tr th {\n",
       "        vertical-align: top;\n",
       "    }\n",
       "\n",
       "    .dataframe thead th {\n",
       "        text-align: right;\n",
       "    }\n",
       "</style>\n",
       "<table border=\"1\" class=\"dataframe\">\n",
       "  <thead>\n",
       "    <tr style=\"text-align: right;\">\n",
       "      <th></th>\n",
       "      <th>Unnamed: 0</th>\n",
       "      <th>Loan_ID</th>\n",
       "      <th>Gender</th>\n",
       "      <th>Married</th>\n",
       "      <th>Dependents</th>\n",
       "      <th>Education</th>\n",
       "      <th>Self_Employed</th>\n",
       "      <th>ApplicantIncome</th>\n",
       "      <th>CoapplicantIncome</th>\n",
       "      <th>LoanAmount</th>\n",
       "      <th>Loan_Amount_Term</th>\n",
       "      <th>Credit_History</th>\n",
       "      <th>Property_Area</th>\n",
       "      <th>Loan_Status</th>\n",
       "    </tr>\n",
       "  </thead>\n",
       "  <tbody>\n",
       "    <tr>\n",
       "      <th>0</th>\n",
       "      <td>False</td>\n",
       "      <td>False</td>\n",
       "      <td>False</td>\n",
       "      <td>False</td>\n",
       "      <td>False</td>\n",
       "      <td>False</td>\n",
       "      <td>False</td>\n",
       "      <td>False</td>\n",
       "      <td>False</td>\n",
       "      <td>False</td>\n",
       "      <td>False</td>\n",
       "      <td>False</td>\n",
       "      <td>False</td>\n",
       "      <td>False</td>\n",
       "    </tr>\n",
       "    <tr>\n",
       "      <th>1</th>\n",
       "      <td>False</td>\n",
       "      <td>False</td>\n",
       "      <td>False</td>\n",
       "      <td>False</td>\n",
       "      <td>False</td>\n",
       "      <td>False</td>\n",
       "      <td>False</td>\n",
       "      <td>False</td>\n",
       "      <td>False</td>\n",
       "      <td>False</td>\n",
       "      <td>False</td>\n",
       "      <td>False</td>\n",
       "      <td>False</td>\n",
       "      <td>False</td>\n",
       "    </tr>\n",
       "    <tr>\n",
       "      <th>2</th>\n",
       "      <td>False</td>\n",
       "      <td>False</td>\n",
       "      <td>False</td>\n",
       "      <td>False</td>\n",
       "      <td>False</td>\n",
       "      <td>False</td>\n",
       "      <td>False</td>\n",
       "      <td>False</td>\n",
       "      <td>False</td>\n",
       "      <td>True</td>\n",
       "      <td>False</td>\n",
       "      <td>False</td>\n",
       "      <td>False</td>\n",
       "      <td>False</td>\n",
       "    </tr>\n",
       "    <tr>\n",
       "      <th>3</th>\n",
       "      <td>False</td>\n",
       "      <td>False</td>\n",
       "      <td>False</td>\n",
       "      <td>False</td>\n",
       "      <td>False</td>\n",
       "      <td>False</td>\n",
       "      <td>False</td>\n",
       "      <td>False</td>\n",
       "      <td>False</td>\n",
       "      <td>False</td>\n",
       "      <td>False</td>\n",
       "      <td>False</td>\n",
       "      <td>False</td>\n",
       "      <td>False</td>\n",
       "    </tr>\n",
       "    <tr>\n",
       "      <th>4</th>\n",
       "      <td>False</td>\n",
       "      <td>False</td>\n",
       "      <td>False</td>\n",
       "      <td>False</td>\n",
       "      <td>False</td>\n",
       "      <td>False</td>\n",
       "      <td>True</td>\n",
       "      <td>False</td>\n",
       "      <td>False</td>\n",
       "      <td>False</td>\n",
       "      <td>False</td>\n",
       "      <td>False</td>\n",
       "      <td>False</td>\n",
       "      <td>False</td>\n",
       "    </tr>\n",
       "    <tr>\n",
       "      <th>...</th>\n",
       "      <td>...</td>\n",
       "      <td>...</td>\n",
       "      <td>...</td>\n",
       "      <td>...</td>\n",
       "      <td>...</td>\n",
       "      <td>...</td>\n",
       "      <td>...</td>\n",
       "      <td>...</td>\n",
       "      <td>...</td>\n",
       "      <td>...</td>\n",
       "      <td>...</td>\n",
       "      <td>...</td>\n",
       "      <td>...</td>\n",
       "      <td>...</td>\n",
       "    </tr>\n",
       "    <tr>\n",
       "      <th>486</th>\n",
       "      <td>False</td>\n",
       "      <td>False</td>\n",
       "      <td>False</td>\n",
       "      <td>False</td>\n",
       "      <td>False</td>\n",
       "      <td>False</td>\n",
       "      <td>False</td>\n",
       "      <td>False</td>\n",
       "      <td>False</td>\n",
       "      <td>False</td>\n",
       "      <td>True</td>\n",
       "      <td>False</td>\n",
       "      <td>False</td>\n",
       "      <td>False</td>\n",
       "    </tr>\n",
       "    <tr>\n",
       "      <th>487</th>\n",
       "      <td>False</td>\n",
       "      <td>False</td>\n",
       "      <td>False</td>\n",
       "      <td>False</td>\n",
       "      <td>False</td>\n",
       "      <td>False</td>\n",
       "      <td>False</td>\n",
       "      <td>False</td>\n",
       "      <td>False</td>\n",
       "      <td>False</td>\n",
       "      <td>False</td>\n",
       "      <td>False</td>\n",
       "      <td>False</td>\n",
       "      <td>False</td>\n",
       "    </tr>\n",
       "    <tr>\n",
       "      <th>488</th>\n",
       "      <td>False</td>\n",
       "      <td>False</td>\n",
       "      <td>False</td>\n",
       "      <td>False</td>\n",
       "      <td>False</td>\n",
       "      <td>False</td>\n",
       "      <td>True</td>\n",
       "      <td>False</td>\n",
       "      <td>False</td>\n",
       "      <td>False</td>\n",
       "      <td>False</td>\n",
       "      <td>False</td>\n",
       "      <td>False</td>\n",
       "      <td>False</td>\n",
       "    </tr>\n",
       "    <tr>\n",
       "      <th>489</th>\n",
       "      <td>False</td>\n",
       "      <td>False</td>\n",
       "      <td>False</td>\n",
       "      <td>False</td>\n",
       "      <td>False</td>\n",
       "      <td>False</td>\n",
       "      <td>False</td>\n",
       "      <td>False</td>\n",
       "      <td>False</td>\n",
       "      <td>False</td>\n",
       "      <td>False</td>\n",
       "      <td>False</td>\n",
       "      <td>False</td>\n",
       "      <td>False</td>\n",
       "    </tr>\n",
       "    <tr>\n",
       "      <th>490</th>\n",
       "      <td>False</td>\n",
       "      <td>False</td>\n",
       "      <td>False</td>\n",
       "      <td>False</td>\n",
       "      <td>False</td>\n",
       "      <td>False</td>\n",
       "      <td>True</td>\n",
       "      <td>False</td>\n",
       "      <td>False</td>\n",
       "      <td>False</td>\n",
       "      <td>False</td>\n",
       "      <td>False</td>\n",
       "      <td>False</td>\n",
       "      <td>False</td>\n",
       "    </tr>\n",
       "  </tbody>\n",
       "</table>\n",
       "<p>491 rows × 14 columns</p>\n",
       "</div>"
      ],
      "text/plain": [
       "     Unnamed: 0  Loan_ID  Gender  Married  Dependents  Education  \\\n",
       "0         False    False   False    False       False      False   \n",
       "1         False    False   False    False       False      False   \n",
       "2         False    False   False    False       False      False   \n",
       "3         False    False   False    False       False      False   \n",
       "4         False    False   False    False       False      False   \n",
       "..          ...      ...     ...      ...         ...        ...   \n",
       "486       False    False   False    False       False      False   \n",
       "487       False    False   False    False       False      False   \n",
       "488       False    False   False    False       False      False   \n",
       "489       False    False   False    False       False      False   \n",
       "490       False    False   False    False       False      False   \n",
       "\n",
       "     Self_Employed  ApplicantIncome  CoapplicantIncome  LoanAmount  \\\n",
       "0            False            False              False       False   \n",
       "1            False            False              False       False   \n",
       "2            False            False              False        True   \n",
       "3            False            False              False       False   \n",
       "4             True            False              False       False   \n",
       "..             ...              ...                ...         ...   \n",
       "486          False            False              False       False   \n",
       "487          False            False              False       False   \n",
       "488           True            False              False       False   \n",
       "489          False            False              False       False   \n",
       "490           True            False              False       False   \n",
       "\n",
       "     Loan_Amount_Term  Credit_History  Property_Area  Loan_Status  \n",
       "0               False           False          False        False  \n",
       "1               False           False          False        False  \n",
       "2               False           False          False        False  \n",
       "3               False           False          False        False  \n",
       "4               False           False          False        False  \n",
       "..                ...             ...            ...          ...  \n",
       "486              True           False          False        False  \n",
       "487             False           False          False        False  \n",
       "488             False           False          False        False  \n",
       "489             False           False          False        False  \n",
       "490             False           False          False        False  \n",
       "\n",
       "[491 rows x 14 columns]"
      ]
     },
     "execution_count": 5,
     "metadata": {},
     "output_type": "execute_result"
    }
   ],
   "source": [
    "data.isnull()"
   ]
  },
  {
   "cell_type": "code",
   "execution_count": 6,
   "id": "50bdb732",
   "metadata": {},
   "outputs": [
    {
     "data": {
      "text/plain": [
       "Unnamed: 0            0\n",
       "Loan_ID               0\n",
       "Gender               12\n",
       "Married               3\n",
       "Dependents           13\n",
       "Education             0\n",
       "Self_Employed        29\n",
       "ApplicantIncome       0\n",
       "CoapplicantIncome     0\n",
       "LoanAmount           17\n",
       "Loan_Amount_Term     12\n",
       "Credit_History       43\n",
       "Property_Area         0\n",
       "Loan_Status           0\n",
       "dtype: int64"
      ]
     },
     "execution_count": 6,
     "metadata": {},
     "output_type": "execute_result"
    }
   ],
   "source": [
    "data.isnull().sum()"
   ]
  },
  {
   "cell_type": "markdown",
   "id": "075a0b88",
   "metadata": {},
   "source": [
    "There are missing values in the data shown by isnull(). The output 'True' represents missing vlaue. isnull().sum() shows the maximum missing values is 43 in credit_history feature. "
   ]
  },
  {
   "cell_type": "code",
   "execution_count": 7,
   "id": "da3000e9",
   "metadata": {},
   "outputs": [
    {
     "data": {
      "text/plain": [
       "(373, 14)"
      ]
     },
     "execution_count": 7,
     "metadata": {},
     "output_type": "execute_result"
    }
   ],
   "source": [
    "data.dropna(inplace=True)\n",
    "data.shape"
   ]
  },
  {
   "cell_type": "code",
   "execution_count": 8,
   "id": "11f3b3ec",
   "metadata": {},
   "outputs": [
    {
     "data": {
      "image/png": "[encoded data removed]",
      "text/plain": [
       "<Figure size 1080x720 with 12 Axes>"
      ]
     },
     "metadata": {
      "needs_background": "light"
     },
     "output_type": "display_data"
    }
   ],
   "source": [
    "fig,ax = plt.subplots(nrows = 3, ncols=4, figsize = (15,10))\n",
    "\n",
    "ax = ax.ravel()\n",
    "\n",
    "for i, col in enumerate(data.columns[2:]):\n",
    "    ax[i].hist(data[col], bins=20, color='b', edgecolor='k')\n",
    "    ax[i].set_title(col)\n",
    "    \n",
    "plt.tight_layout()"
   ]
  },
  {
   "cell_type": "markdown",
   "id": "63ff48bf",
   "metadata": {},
   "source": [
    "After droping the missing values there remains 373 rows of data.\n",
    "\n",
    "Since some features are categorical and we may have to convert them to numerical value. For Gender, Married, Education, Self_Employed we can covert them to binary. For Property_Area we may have to define dummy encoding. We need to apply dummy encoding and define the three values of Property_Area distinctly as they are repeated multiple times. \n",
    "\n",
    "Ref: https://www.youtube.com/watch?v=WXHLLO4FnZs, \n",
    "https://saturncloud.io/blog/how-to-convert-categorical-data-to-numerical-data-with-pandas/#:~:text=The%20easiest%20way%20to%20convert,numerical%20representation%20of%20each%20category."
   ]
  },
  {
   "cell_type": "code",
   "execution_count": 9,
   "id": "f2682b97",
   "metadata": {},
   "outputs": [],
   "source": [
    "# data['Loan_Amount_Term'].unique()"
   ]
  },
  {
   "cell_type": "code",
   "execution_count": 10,
   "id": "5d1bcff5",
   "metadata": {},
   "outputs": [
    {
     "data": {
      "text/plain": [
       "(373, 19)"
      ]
     },
     "execution_count": 10,
     "metadata": {},
     "output_type": "execute_result"
    }
   ],
   "source": [
    "data = pd.get_dummies(data, columns=['Property_Area', 'Dependents'])\n",
    "\n",
    "data['Gender'] = data['Gender'].replace({'Male': 0, 'Female': 1})\n",
    "data['Married'] = data['Married'].replace({'No': 0, 'Yes': 1})\n",
    "data['Education'] = data['Education'].replace({'Not Graduate': 0, 'Graduate': 1})\n",
    "data['Self_Employed'] = data['Self_Employed'].replace({'No': 0, 'Yes': 1})\n",
    "data['Loan_Status'] = data['Loan_Status'].replace({'N': 0, 'Y': 1})\n",
    "\n",
    "data.shape"
   ]
  },
  {
   "cell_type": "code",
   "execution_count": 11,
   "id": "829a35eb",
   "metadata": {},
   "outputs": [],
   "source": [
    "data_y = data['Loan_Status'].values\n",
    "data_x = data.drop(columns=['Loan_ID', 'Loan_Status','Unnamed: 0']).values\n",
    "\n",
    "x_name = data.drop(columns=['Loan_ID', 'Loan_Status','Unnamed: 0']).columns.to_numpy()\n",
    "y_name = np.array(['Loan_Status'])\n",
    "\n"
   ]
  },
  {
   "cell_type": "code",
   "execution_count": 45,
   "id": "d53158a1",
   "metadata": {},
   "outputs": [
    {
     "name": "stdout",
     "output_type": "stream",
     "text": [
      "2\n",
      "2\n",
      "2\n",
      "2\n",
      "316\n",
      "182\n",
      "162\n",
      "9\n",
      "2\n",
      "2\n",
      "2\n",
      "2\n",
      "2\n",
      "2\n",
      "2\n",
      "2\n"
     ]
    }
   ],
   "source": [
    "for i in range(data_x.shape[1]):\n",
    "    print(len(np.unique(data_x[:,i])))"
   ]
  },
  {
   "cell_type": "code",
   "execution_count": 12,
   "id": "827ce368",
   "metadata": {},
   "outputs": [
    {
     "data": {
      "image/png": "[encoded data removed]",
      "text/plain": [
       "<Figure size 1080x720 with 16 Axes>"
      ]
     },
     "metadata": {
      "needs_background": "light"
     },
     "output_type": "display_data"
    }
   ],
   "source": [
    "fig,ax = plt.subplots(nrows = 4, ncols=5, figsize = (15,10))\n",
    "\n",
    "ax = ax.ravel()\n",
    "\n",
    "for i in range(data_x.shape[1]):\n",
    "    ax[i].hist(data_x[:,i],bins=20,color='b',edgecolor='k')\n",
    "    ax[i].set_title(x_name[i])\n",
    "    \n",
    "fig.delaxes(ax[-1])\n",
    "fig.delaxes(ax[-2])\n",
    "fig.delaxes(ax[-3])\n",
    "fig.delaxes(ax[-4])\n",
    "plt.tight_layout()"
   ]
  },
  {
   "cell_type": "code",
   "execution_count": null,
   "id": "ae5a6128",
   "metadata": {},
   "outputs": [],
   "source": []
  },
  {
   "cell_type": "markdown",
   "id": "81799e4e",
   "metadata": {},
   "source": [
    "#### A-2 Implementation"
   ]
  },
  {
   "cell_type": "code",
   "execution_count": 29,
   "id": "4b1817bf",
   "metadata": {},
   "outputs": [],
   "source": [
    "def entropy(y):\n",
    "    hist = np.bincount(y)\n",
    "    ps = hist / len(y)\n",
    "    return -np.sum([p * np.log2(p) for p in ps if p > 0])\n",
    "\n",
    "# Function to calculate Gini index\n",
    "def gini(y):\n",
    "    hist = np.bincount(y)\n",
    "    ps = hist / len(y)\n",
    "    return 1 - np.sum([p ** 2 for p in ps if p > 0])\n",
    "\n",
    "class Node:\n",
    "    def __init__(\n",
    "        self, feature=None, threshold=None, left=None, right=None, *, value=None\n",
    "    ):\n",
    "        self.feature = feature\n",
    "        self.threshold = threshold\n",
    "        self.left = left\n",
    "        self.right = right\n",
    "        self.value = value\n",
    "\n",
    "    def is_leaf_node(self):\n",
    "        return self.value is not None\n",
    "\n",
    "\n",
    "class DecisionTree:\n",
    "    def __init__(self, min_samples_split=2, max_depth=100, n_feats=None):\n",
    "        self.min_samples_split = min_samples_split\n",
    "        self.max_depth = max_depth\n",
    "        self.n_feats = n_feats\n",
    "        self.root = None\n",
    "\n",
    "    def fit(self, X, y):\n",
    "        self.n_feats = X.shape[1] if not self.n_feats else min(self.n_feats, X.shape[1])\n",
    "        self.root = self._grow_tree(X, y)\n",
    "\n",
    "    def predict(self, X):\n",
    "        return np.array([self._traverse_tree(x, self.root) for x in X])\n",
    "\n",
    "    def _grow_tree(self, X, y, depth=0):\n",
    "        n_samples, n_features = X.shape\n",
    "        n_labels = len(np.unique(y))\n",
    "\n",
    "        # stopping criteria\n",
    "        if (\n",
    "            depth >= self.max_depth\n",
    "            or n_labels == 1\n",
    "            or n_samples < self.min_samples_split\n",
    "        ):\n",
    "            leaf_value = self._most_common_label(y)\n",
    "            return Node(value=leaf_value)\n",
    "\n",
    "        feat_idxs = np.random.choice(n_features, self.n_feats, replace=False)\n",
    "\n",
    "        # greedily select the best split according to information gain\n",
    "        best_feat, best_thresh = self._best_criteria(X, y, feat_idxs)\n",
    "        \n",
    "        # If best_thresh is None, create a leaf node\n",
    "        if best_thresh is None:\n",
    "            leaf_value = self._most_common_label(y)\n",
    "            return Node(value=leaf_value)\n",
    "\n",
    "        # grow the children that result from the split\n",
    "        left_idxs, right_idxs = self._split(X[:, best_feat], best_thresh)\n",
    "        left = self._grow_tree(X[left_idxs, :], y[left_idxs], depth + 1)\n",
    "        right = self._grow_tree(X[right_idxs, :], y[right_idxs], depth + 1)\n",
    "        return Node(best_feat, best_thresh, left, right)\n",
    "\n",
    "    def _best_criteria(self, X, y, feat_idxs):\n",
    "        best_gain = 1\n",
    "        split_idx, split_thresh = None, None\n",
    "        for feat_idx in feat_idxs:\n",
    "            X_column = X[:, feat_idx]\n",
    "            thresholds = np.unique(X_column)\n",
    "            for threshold in thresholds:\n",
    "                gini_val = self._gini_gain(y, X_column, threshold)\n",
    "\n",
    "                if gini_val < best_gain:\n",
    "                    best_gain = gini_val\n",
    "                    split_idx = feat_idx\n",
    "                    split_thresh = threshold\n",
    "\n",
    "        return split_idx, split_thresh\n",
    "\n",
    "    def _gini_gain(self, y, X_column, split_thresh):\n",
    "        # parent loss\n",
    "        parent_gini = gini(y)\n",
    "\n",
    "        # generate split\n",
    "        left_idxs, right_idxs = self._split(X_column, split_thresh)\n",
    "\n",
    "        if len(left_idxs) == 0 or len(right_idxs) == 0:\n",
    "            return 1\n",
    "\n",
    "        # compute the weighted avg. of the Gini for the children\n",
    "        n = len(y)\n",
    "        n_l, n_r = len(left_idxs), len(right_idxs)\n",
    "        g_l, g_r = gini(y[left_idxs]), gini(y[right_idxs])\n",
    "        child_gini = (n_l / n) * g_l + (n_r / n) * g_r\n",
    "\n",
    "        return child_gini\n",
    "\n",
    "    \n",
    "    def _information_gain(self, y, X_column, split_thresh):\n",
    "        # parent loss\n",
    "        parent_entropy = entropy(y)\n",
    "\n",
    "        # generate split\n",
    "        left_idxs, right_idxs = self._split(X_column, split_thresh)\n",
    "\n",
    "        if len(left_idxs) == 0 or len(right_idxs) == 0:\n",
    "            return 0\n",
    "\n",
    "        # compute the weighted avg. of the loss for the children\n",
    "        n = len(y)\n",
    "        n_l, n_r = len(left_idxs), len(right_idxs)\n",
    "        e_l, e_r = entropy(y[left_idxs]), entropy(y[right_idxs])\n",
    "        child_entropy = (n_l / n) * e_l + (n_r / n) * e_r\n",
    "\n",
    "        # information gain is difference in loss before vs. after split\n",
    "        ig = parent_entropy - child_entropy\n",
    "        return ig\n",
    "    \n",
    "    def _split(self, X_column, split_thresh):\n",
    "        left_idxs = np.argwhere(X_column <= split_thresh).flatten()\n",
    "        right_idxs = np.argwhere(X_column > split_thresh).flatten()\n",
    "        return left_idxs, right_idxs\n",
    "\n",
    "    def _traverse_tree(self, x, node):\n",
    "        if node.is_leaf_node():\n",
    "            return node.value\n",
    "\n",
    "        if x[node.feature] <= node.threshold:\n",
    "            return self._traverse_tree(x, node.left)\n",
    "        return self._traverse_tree(x, node.right)\n",
    "\n",
    "    def _most_common_label(self, y):\n",
    "        counter = Counter(y)\n",
    "        most_common = counter.most_common(1)[0][0]\n",
    "        return most_common"
   ]
  },
  {
   "cell_type": "markdown",
   "id": "a7b8dafb",
   "metadata": {},
   "source": [
    "Here refering to the jupyter notebook of discussion 5 I have modified the decision tree class. Here I have added a funciton to compute gini index and weighted gini index. For the best criteria for tree splitting, the minimum gini index is preferred. \n",
    "Ref: https://blog.quantinsti.com/gini-index/"
   ]
  },
  {
   "cell_type": "code",
   "execution_count": 30,
   "id": "80530a17",
   "metadata": {},
   "outputs": [],
   "source": [
    "from sklearn.model_selection import train_test_split\n",
    "from collections import Counter\n",
    "\n",
    "X_train, X_val, y_train, y_val = train_test_split(\n",
    "    data_x, data_y, test_size=0.2, random_state=1234)"
   ]
  },
  {
   "cell_type": "code",
   "execution_count": 31,
   "id": "ba6eaa21",
   "metadata": {},
   "outputs": [],
   "source": [
    "def accuracy(y_true, y_pred):\n",
    "    accuracy = np.sum(y_true == y_pred) / len(y_true)\n",
    "    return accuracy\n"
   ]
  },
  {
   "cell_type": "code",
   "execution_count": 35,
   "id": "6cff13ea",
   "metadata": {},
   "outputs": [
    {
     "name": "stdout",
     "output_type": "stream",
     "text": [
      "#####################\n",
      "Max depth:5, #features:12, Validation Accuracy:0.84\n"
     ]
    }
   ],
   "source": [
    "depth = np.array([5,8,10,12,15,20,25])\n",
    "n_feats = np.arange(1,data_x.shape[1]+1)\n",
    "# n_feats = np.array([7])\n",
    "\n",
    "best_acc = 0\n",
    "best_depth = 0\n",
    "best_nfeats = 0\n",
    "\n",
    "for i in depth:\n",
    "    for j in n_feats:\n",
    "        clf = DecisionTree(max_depth=i,n_feats=j)\n",
    "        clf.fit(X_train, y_train)\n",
    "\n",
    "        y_pred_train = clf.predict(X_train)\n",
    "        acc_T = accuracy(y_train, y_pred_train)\n",
    "\n",
    "        y_pred = clf.predict(X_val)\n",
    "        acc = accuracy(y_val, y_pred)\n",
    "        \n",
    "#         print(\"Max depth:%d, #features:%d, Training Accuracy:%.2f, Validation Accuracy:%.2f\"%(i,j,acc_T,acc))\n",
    "        if acc > best_acc:\n",
    "            best_acc = acc\n",
    "            best_depth = i\n",
    "            best_nfeats = j\n",
    "            \n",
    "        \n",
    "print('#####################')\n",
    "print(\"Max depth:%d, #features:%d, Validation Accuracy:%.2f\"%(best_depth,best_nfeats,best_acc))\n"
   ]
  },
  {
   "cell_type": "code",
   "execution_count": 36,
   "id": "66a9a956",
   "metadata": {},
   "outputs": [
    {
     "data": {
      "text/html": [
       "<div>\n",
       "<style scoped>\n",
       "    .dataframe tbody tr th:only-of-type {\n",
       "        vertical-align: middle;\n",
       "    }\n",
       "\n",
       "    .dataframe tbody tr th {\n",
       "        vertical-align: top;\n",
       "    }\n",
       "\n",
       "    .dataframe thead th {\n",
       "        text-align: right;\n",
       "    }\n",
       "</style>\n",
       "<table border=\"1\" class=\"dataframe\">\n",
       "  <thead>\n",
       "    <tr style=\"text-align: right;\">\n",
       "      <th></th>\n",
       "      <th>Unnamed: 0</th>\n",
       "      <th>Loan_ID</th>\n",
       "      <th>Gender</th>\n",
       "      <th>Married</th>\n",
       "      <th>Dependents</th>\n",
       "      <th>Education</th>\n",
       "      <th>Self_Employed</th>\n",
       "      <th>ApplicantIncome</th>\n",
       "      <th>CoapplicantIncome</th>\n",
       "      <th>LoanAmount</th>\n",
       "      <th>Loan_Amount_Term</th>\n",
       "      <th>Credit_History</th>\n",
       "      <th>Property_Area</th>\n",
       "    </tr>\n",
       "  </thead>\n",
       "  <tbody>\n",
       "    <tr>\n",
       "      <th>0</th>\n",
       "      <td>0</td>\n",
       "      <td>LP002364</td>\n",
       "      <td>Male</td>\n",
       "      <td>Yes</td>\n",
       "      <td>0</td>\n",
       "      <td>Graduate</td>\n",
       "      <td>No</td>\n",
       "      <td>14880</td>\n",
       "      <td>0.0</td>\n",
       "      <td>96.0</td>\n",
       "      <td>360.0</td>\n",
       "      <td>1.0</td>\n",
       "      <td>Semiurban</td>\n",
       "    </tr>\n",
       "    <tr>\n",
       "      <th>1</th>\n",
       "      <td>1</td>\n",
       "      <td>LP001334</td>\n",
       "      <td>Male</td>\n",
       "      <td>Yes</td>\n",
       "      <td>0</td>\n",
       "      <td>Not Graduate</td>\n",
       "      <td>No</td>\n",
       "      <td>4188</td>\n",
       "      <td>0.0</td>\n",
       "      <td>115.0</td>\n",
       "      <td>180.0</td>\n",
       "      <td>1.0</td>\n",
       "      <td>Semiurban</td>\n",
       "    </tr>\n",
       "    <tr>\n",
       "      <th>2</th>\n",
       "      <td>2</td>\n",
       "      <td>LP002979</td>\n",
       "      <td>Male</td>\n",
       "      <td>Yes</td>\n",
       "      <td>3+</td>\n",
       "      <td>Graduate</td>\n",
       "      <td>No</td>\n",
       "      <td>4106</td>\n",
       "      <td>0.0</td>\n",
       "      <td>40.0</td>\n",
       "      <td>180.0</td>\n",
       "      <td>1.0</td>\n",
       "      <td>Rural</td>\n",
       "    </tr>\n",
       "    <tr>\n",
       "      <th>3</th>\n",
       "      <td>3</td>\n",
       "      <td>LP002443</td>\n",
       "      <td>Male</td>\n",
       "      <td>Yes</td>\n",
       "      <td>2</td>\n",
       "      <td>Graduate</td>\n",
       "      <td>No</td>\n",
       "      <td>3340</td>\n",
       "      <td>1710.0</td>\n",
       "      <td>150.0</td>\n",
       "      <td>360.0</td>\n",
       "      <td>0.0</td>\n",
       "      <td>Rural</td>\n",
       "    </tr>\n",
       "    <tr>\n",
       "      <th>4</th>\n",
       "      <td>4</td>\n",
       "      <td>LP001758</td>\n",
       "      <td>Male</td>\n",
       "      <td>Yes</td>\n",
       "      <td>2</td>\n",
       "      <td>Graduate</td>\n",
       "      <td>No</td>\n",
       "      <td>6250</td>\n",
       "      <td>1695.0</td>\n",
       "      <td>210.0</td>\n",
       "      <td>360.0</td>\n",
       "      <td>1.0</td>\n",
       "      <td>Semiurban</td>\n",
       "    </tr>\n",
       "  </tbody>\n",
       "</table>\n",
       "</div>"
      ],
      "text/plain": [
       "   Unnamed: 0   Loan_ID Gender Married Dependents     Education Self_Employed  \\\n",
       "0           0  LP002364   Male     Yes          0      Graduate            No   \n",
       "1           1  LP001334   Male     Yes          0  Not Graduate            No   \n",
       "2           2  LP002979   Male     Yes         3+      Graduate            No   \n",
       "3           3  LP002443   Male     Yes          2      Graduate            No   \n",
       "4           4  LP001758   Male     Yes          2      Graduate            No   \n",
       "\n",
       "   ApplicantIncome  CoapplicantIncome  LoanAmount  Loan_Amount_Term  \\\n",
       "0            14880                0.0        96.0             360.0   \n",
       "1             4188                0.0       115.0             180.0   \n",
       "2             4106                0.0        40.0             180.0   \n",
       "3             3340             1710.0       150.0             360.0   \n",
       "4             6250             1695.0       210.0             360.0   \n",
       "\n",
       "   Credit_History Property_Area  \n",
       "0             1.0     Semiurban  \n",
       "1             1.0     Semiurban  \n",
       "2             1.0         Rural  \n",
       "3             0.0         Rural  \n",
       "4             1.0     Semiurban  "
      ]
     },
     "execution_count": 36,
     "metadata": {},
     "output_type": "execute_result"
    }
   ],
   "source": [
    "data_test = pd.read_csv('data_test-1.csv')\n",
    "data_test.head()\n",
    "\n",
    "\n"
   ]
  },
  {
   "cell_type": "code",
   "execution_count": 37,
   "id": "802430b8",
   "metadata": {},
   "outputs": [
    {
     "data": {
      "text/plain": [
       "Unnamed: 0           0\n",
       "Loan_ID              0\n",
       "Gender               1\n",
       "Married              0\n",
       "Dependents           2\n",
       "Education            0\n",
       "Self_Employed        3\n",
       "ApplicantIncome      0\n",
       "CoapplicantIncome    0\n",
       "LoanAmount           5\n",
       "Loan_Amount_Term     2\n",
       "Credit_History       7\n",
       "Property_Area        0\n",
       "dtype: int64"
      ]
     },
     "execution_count": 37,
     "metadata": {},
     "output_type": "execute_result"
    }
   ],
   "source": [
    "data_test.isnull().sum()\n",
    "\n"
   ]
  },
  {
   "cell_type": "code",
   "execution_count": 38,
   "id": "228de4e0",
   "metadata": {},
   "outputs": [
    {
     "data": {
      "text/plain": [
       "(107, 13)"
      ]
     },
     "execution_count": 38,
     "metadata": {},
     "output_type": "execute_result"
    }
   ],
   "source": [
    "data_test.dropna(inplace=True)\n",
    "data_test.shape\n",
    "\n",
    "\n"
   ]
  },
  {
   "cell_type": "code",
   "execution_count": 39,
   "id": "222fff6d",
   "metadata": {},
   "outputs": [
    {
     "data": {
      "text/plain": [
       "(107, 18)"
      ]
     },
     "execution_count": 39,
     "metadata": {},
     "output_type": "execute_result"
    }
   ],
   "source": [
    "# fig,ax = plt.subplots(nrows = 3, ncols=4, figsize = (15,10))\n",
    "\n",
    "# ax = ax.ravel()\n",
    "\n",
    "# for i, col in enumerate(data_test.columns[2:]):\n",
    "#     ax[i].hist(data_test[col], bins=20, color='b', edgecolor='k')\n",
    "#     ax[i].set_title(col)\n",
    "    \n",
    "# plt.tight_layout()\n",
    "\n",
    "data_test = pd.get_dummies(data_test, columns=['Property_Area', 'Dependents'])\n",
    "\n",
    "data_test['Gender'] = data_test['Gender'].replace({'Male': 0, 'Female': 1})\n",
    "data_test['Married'] = data_test['Married'].replace({'No': 0, 'Yes': 1})\n",
    "data_test['Education'] = data_test['Education'].replace({'Not Graduate': 0, 'Graduate': 1})\n",
    "data_test['Self_Employed'] = data_test['Self_Employed'].replace({'No': 0, 'Yes': 1})\n",
    "\n",
    "\n",
    "data_test.shape\n"
   ]
  },
  {
   "cell_type": "code",
   "execution_count": 40,
   "id": "5fed067b",
   "metadata": {},
   "outputs": [],
   "source": [
    "data_test_x = data_test.drop(columns=['Loan_ID','Unnamed: 0']).values\n",
    "\n",
    "\n",
    "\n"
   ]
  },
  {
   "cell_type": "code",
   "execution_count": 41,
   "id": "73b3df0e",
   "metadata": {},
   "outputs": [],
   "source": [
    "clf = DecisionTree(max_depth=5,n_feats=12)\n",
    "clf.fit(X_train, y_train)\n",
    "\n",
    "y_pred_test = clf.predict(data_test_x)\n",
    "\n",
    "\n"
   ]
  },
  {
   "cell_type": "code",
   "execution_count": 42,
   "id": "d36c5289",
   "metadata": {},
   "outputs": [],
   "source": [
    "df = pd.DataFrame({\"pred_Loan_status\" : y_pred_test})\n",
    "df.to_csv(\"preds.csv\")\n",
    "\n"
   ]
  },
  {
   "cell_type": "markdown",
   "id": "83656691",
   "metadata": {},
   "source": [
    "### Part B - Boosting"
   ]
  },
  {
   "cell_type": "code",
   "execution_count": 61,
   "id": "51b366d2",
   "metadata": {},
   "outputs": [
    {
     "name": "stdout",
     "output_type": "stream",
     "text": [
      "{0.001: 0.6988596491228072, 0.01: 0.6985672514619884, 0.1: 0.7008576998050684, 1: 0.7063840155945421, 10.0: 0.7196832358674464, 100.0: 0.7191861598440548, 1000.0: 0.6924610136452243}\n",
      "Optimal alpha value for XGBoost is  10.0\n"
     ]
    }
   ],
   "source": [
    "import xgboost as xgb\n",
    "from sklearn.metrics import roc_auc_score\n",
    "from sklearn.metrics import roc_curve\n",
    "\n",
    "def train_XGBoost(X_train, y_train, X_val, y_val,alpha_vals, n_bootstraps):\n",
    "    \n",
    "    \n",
    "    aucs_xgboost = {alpha : [] for alpha in alpha_vals}\n",
    "    mean_auc_xgb_dict = {}\n",
    "    for i in range(n_bootstraps):\n",
    "        sample_id = np.random.choice(len(X_train), len(X_train))\n",
    "        X_sample, y_sample = X_train[sample_id], y_train[sample_id]\n",
    "\n",
    "        for alpha in alpha_vals:\n",
    "#             xgb_clf = xgb.XGBClassifier(reg_lambda = alpha)\n",
    "            xgb_clf = xgb.XGBClassifier(\n",
    "                    n_estimators=100,\n",
    "                    learning_rate=0.12,\n",
    "                    max_depth=12,\n",
    "                    reg_lambda=alpha, \n",
    "                    seed = 29\n",
    "                )\n",
    "            xgb_clf.fit(X_sample, y_sample)\n",
    "            y_pred = xgb_clf.predict_proba(X_val)\n",
    "            auc_score = roc_auc_score(y_val, y_pred[:,1])\n",
    "            aucs_xgboost[alpha].append(auc_score)\n",
    "\n",
    "    mean_auc_xgb_dict = {alpha: np.mean(aucs_xgboost[alpha]) for alpha in alpha_vals}\n",
    "    return mean_auc_xgb_dict\n",
    "\n",
    "alpha_vals = [1e-3, 1e-2, 1e-1, 1, 1e1, 1e2, 1e3]\n",
    "mean_auc_xgb = train_XGBoost(X_train, y_train, X_val, y_val,alpha_vals,100)\n",
    "print(mean_auc_xgb)\n",
    "opt_alpha = max(mean_auc_xgb, key = mean_auc_xgb.get)\n",
    "print('Optimal alpha value for XGBoost is ', opt_alpha)"
   ]
  },
  {
   "cell_type": "markdown",
   "id": "d9aa7c43",
   "metadata": {},
   "source": [
    "Here I tested for different number of boosting rounds and for n_estimators=100 found the best mean AUC. Moreover I played around with the learning rate and found for learning rate of 0.12, best mean AUC is observed. A typical value for learning rate should be between 0.01-0.2 (https://www.analyticsvidhya.com/blog/2016/03/complete-guide-parameter-tuning-xgboost-with-codes-python/). On varying the maximum tree depth between 8 to 15, found that for max_depth of 12 the best mean AUC is observed."
   ]
  },
  {
   "cell_type": "code",
   "execution_count": 72,
   "id": "3bbf9693",
   "metadata": {},
   "outputs": [],
   "source": [
    "alpha = 10\n",
    "xgb_clf = xgb.XGBClassifier(\n",
    "                    n_estimators=100,\n",
    "                    learning_rate=0.12,\n",
    "                    max_depth=12,\n",
    "                    reg_lambda=alpha, \n",
    "                    seed = 29\n",
    "                )\n",
    "xgb_clf.fit(X_train, y_train)\n",
    "y_pred = xgb_clf.predict_proba(X_val)\n",
    "auc_score = roc_auc_score(y_val, y_pred[:,1])\n"
   ]
  },
  {
   "cell_type": "code",
   "execution_count": 73,
   "id": "53af1548",
   "metadata": {},
   "outputs": [
    {
     "name": "stderr",
     "output_type": "stream",
     "text": [
      "No artists with labels found to put in legend.  Note that artists whose label start with an underscore are ignored when legend() is called with no argument.\n"
     ]
    },
    {
     "name": "stdout",
     "output_type": "stream",
     "text": [
      "AUC score: 0.702729044834308\n"
     ]
    },
    {
     "data": {
      "text/plain": [
       "Text(0.5, 1.0, 'ROC Curve')"
      ]
     },
     "execution_count": 73,
     "metadata": {},
     "output_type": "execute_result"
    },
    {
     "data": {
      "image/png": "[encoded data removed]",
      "text/plain": [
       "<Figure size 432x288 with 1 Axes>"
      ]
     },
     "metadata": {
      "needs_background": "light"
     },
     "output_type": "display_data"
    }
   ],
   "source": [
    "#### ROC curve\n",
    "    \n",
    "fpr, tpr, thresholds = roc_curve(y_val, y_pred[:,1])\n",
    "\n",
    "print('AUC score:',auc_score)\n",
    "plt.plot(fpr, tpr)\n",
    "plt.plot([0, 1], [0, 1], '--', color = 'k')\n",
    "\n",
    "plt.xlabel('False Positive Rate')\n",
    "plt.ylabel('True Positive Rate')\n",
    "plt.legend()\n",
    "plt.title('ROC Curve')\n"
   ]
  },
  {
   "cell_type": "code",
   "execution_count": null,
   "id": "181a4e37",
   "metadata": {},
   "outputs": [],
   "source": []
  }
 ],
 "metadata": {
  "kernelspec": {
   "display_name": "Python 3 (ipykernel)",
   "language": "python",
   "name": "python3"
  },
  "language_info": {
   "codemirror_mode": {
    "name": "ipython",
    "version": 3
   },
   "file_extension": ".py",
   "mimetype": "text/x-python",
   "name": "python",
   "nbconvert_exporter": "python",
   "pygments_lexer": "ipython3",
   "version": "3.9.12"
  }
 },
 "nbformat": 4,
 "nbformat_minor": 5
}
