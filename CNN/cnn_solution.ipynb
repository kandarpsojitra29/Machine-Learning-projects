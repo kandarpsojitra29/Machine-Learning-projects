{
 "cells": [
  {
   "cell_type": "markdown",
   "id": "fe246aff-dd30-42c5-972d-76162639805d",
   "metadata": {},
   "source": [
    "## Image Classification using CNN"
   ]
  },
  {
   "cell_type": "markdown",
   "id": "5d99b8a7-60e2-40cd-af31-3c48475395bd",
   "metadata": {},
   "source": [
    "### (a) Dataloader"
   ]
  },
  {
   "cell_type": "code",
   "execution_count": 1,
   "id": "0c02226b-042a-46a7-bf54-83218cc0b907",
   "metadata": {},
   "outputs": [],
   "source": [
    "import torch\n",
    "from torch.utils.data import DataLoader, TensorDataset\n",
    "import numpy as np\n",
    "from torchvision import transforms"
   ]
  },
  {
   "cell_type": "code",
   "execution_count": 2,
   "id": "60d08c16-2fe9-4cb2-a31a-1283753effc4",
   "metadata": {},
   "outputs": [],
   "source": [
    "x_train = np.load('x_train.npy')\n",
    "y_train = np.load('y_train.npy')"
   ]
  },
  {
   "cell_type": "code",
   "execution_count": 3,
   "id": "da468e00-33b5-467c-a92a-0018c40cf14e",
   "metadata": {},
   "outputs": [
    {
     "data": {
      "text/plain": [
       "(60000, 784)"
      ]
     },
     "execution_count": 3,
     "metadata": {},
     "output_type": "execute_result"
    }
   ],
   "source": [
    "x_train.shape"
   ]
  },
  {
   "cell_type": "markdown",
   "id": "c971f366-3989-4958-979b-496e486495e0",
   "metadata": {},
   "source": [
    "Currently the data is flattened and we may need to convert it to a 2D array of 28x28 array."
   ]
  },
  {
   "cell_type": "code",
   "execution_count": 4,
   "id": "12179af6-21b0-473b-95e8-7d5970a7e790",
   "metadata": {},
   "outputs": [],
   "source": [
    "# Reshape x_train to (60000, 1, 28, 28)\n",
    "x_train = x_train.reshape(-1, 1, 28, 28)\n",
    " "
   ]
  },
  {
   "cell_type": "markdown",
   "id": "24a74f5e-2cb0-416f-8e99-52fa0c6d5774",
   "metadata": {},
   "source": [
    "Here 60000 is the total number of images, 1 is for channel dimension, and 28,28 is height and width of each image."
   ]
  },
  {
   "cell_type": "code",
   "execution_count": 5,
   "id": "51529076-88cd-4e06-8c44-11b75150c341",
   "metadata": {},
   "outputs": [],
   "source": [
    "# Convert numpy arrays to PyTorch tensors\n",
    "x_train_tensor = torch.tensor(x_train, dtype=torch.float32)  \n",
    "y_train_tensor = torch.tensor(y_train, dtype=torch.long)    "
   ]
  },
  {
   "cell_type": "code",
   "execution_count": 6,
   "id": "52d8ae81-0765-42e7-be1a-2aa0f8bffffc",
   "metadata": {},
   "outputs": [
    {
     "name": "stdout",
     "output_type": "stream",
     "text": [
      "Batch of images shape: torch.Size([64, 1, 28, 28])\n",
      "Batch of labels shape: torch.Size([64])\n"
     ]
    }
   ],
   "source": [
    "# Create a TensorDataset and DataLoader\n",
    "full_dataset = TensorDataset(x_train_tensor, y_train_tensor)\n",
    "full_loader = DataLoader(full_dataset, batch_size=64, shuffle=True)\n",
    "\n",
    "# Check DataLoader output\n",
    "for img, label in full_loader:\n",
    "    print(f\"Batch of images shape: {img.shape}\")  # Expected: (64, 1, 28, 28)\n",
    "    print(f\"Batch of labels shape: {label.shape}\")  # Expected: (64,)\n",
    "    break  # Display only the first batch\n"
   ]
  },
  {
   "cell_type": "markdown",
   "id": "4f8ee72f-c18b-486b-aa4b-1ff569cbe411",
   "metadata": {},
   "source": [
    "### (b) Data Exploration"
   ]
  },
  {
   "cell_type": "code",
   "execution_count": 7,
   "id": "802b7a3c-77be-4a61-97d9-6c5a0544bc95",
   "metadata": {},
   "outputs": [
    {
     "data": {
      "image/png": "[encoded data removed]",
      "text/plain": [
       "<Figure size 1500x1000 with 10 Axes>"
      ]
     },
     "metadata": {},
     "output_type": "display_data"
    }
   ],
   "source": [
    "import matplotlib.pyplot as plt\n",
    "\n",
    "# Pick one example from each digit and visualize them\n",
    "unique_labels, counts = np.unique(y_train, return_counts=True)\n",
    "\n",
    "fig , ax = plt.subplots(\n",
    "    nrows=2,\n",
    "    ncols=5,\n",
    "    figsize=(15, 10))\n",
    "\n",
    "ax = ax.ravel()\n",
    "\n",
    "for i, label in enumerate(unique_labels):\n",
    "    # Get the first index of each unique label\n",
    "    idx = np.where(y_train == label)[0][0]\n",
    "    ax[i].imshow(x_train[idx][0], cmap='gray')\n",
    "    ax[i].set_title(f'Digit: {label}')\n",
    "    ax[i].axis('off')\n",
    "    \n"
   ]
  },
  {
   "cell_type": "code",
   "execution_count": 8,
   "id": "e5444b7b-2d19-4241-8981-32b525eca417",
   "metadata": {},
   "outputs": [
    {
     "name": "stdout",
     "output_type": "stream",
     "text": [
      "Number of sample per digit:\n",
      "Digit 0: 5923\n",
      "Digit 1: 6742\n",
      "Digit 2: 5958\n",
      "Digit 3: 6131\n",
      "Digit 4: 5842\n",
      "Digit 5: 5421\n",
      "Digit 6: 5918\n",
      "Digit 7: 6265\n",
      "Digit 8: 5851\n",
      "Digit 9: 5949\n"
     ]
    }
   ],
   "source": [
    "print(\"Number of sample per digit:\")\n",
    "\n",
    "for i in range(len(counts)):\n",
    "    print(f\"Digit {unique_labels[i]}: {counts[i]}\")"
   ]
  },
  {
   "cell_type": "markdown",
   "id": "a6fe9004-8020-4262-be32-c907847e14fe",
   "metadata": {},
   "source": [
    "### (c) Modelling"
   ]
  },
  {
   "cell_type": "markdown",
   "id": "f2ed8f9f-9bd3-46d9-8b96-27f6a766b07e",
   "metadata": {},
   "source": [
    "##### (1) Split the training data"
   ]
  },
  {
   "cell_type": "code",
   "execution_count": 9,
   "id": "78a5d75e-cd15-47bb-9e6c-6c47ca8e5257",
   "metadata": {},
   "outputs": [],
   "source": [
    "# Split train_dataset into training and validation datasets\n",
    "\n",
    "from torch.utils.data import random_split\n",
    "\n",
    "train_size = int(0.8 * len(full_dataset))\n",
    "val_size = len(full_dataset) - train_size\n",
    "train_dataset, val_dataset = random_split(full_dataset, [train_size, val_size])\n",
    "\n",
    "train_loader = DataLoader(train_dataset, batch_size=64, shuffle=True)\n",
    "val_loader = DataLoader(val_dataset, batch_size=64, shuffle=False)"
   ]
  },
  {
   "cell_type": "code",
   "execution_count": 10,
   "id": "fdf798fe-2783-4dc1-a5d3-1acec4ff7d02",
   "metadata": {},
   "outputs": [],
   "source": [
    "### Defining class for CNN\n",
    "\n",
    "import torch.nn as nn\n",
    "import torch.nn.functional as F\n",
    "\n",
    "class CNN(nn.Module):\n",
    "    def __init__(self, in_channels=1, n_hidden1=10, n_hidden2=20, kernel_size=5, stride=1, dropout_rate=0.5, padding=0,activation=F.relu):\n",
    "        super(CNN, self).__init__()\n",
    "\n",
    "        # Define convolutional layers\n",
    "        self.conv1 = nn.Conv2d(in_channels, n_hidden1, kernel_size=kernel_size, stride=stride, padding=padding)\n",
    "        self.conv2 = nn.Conv2d(n_hidden1, n_hidden2, kernel_size=kernel_size, stride=stride, padding=padding)\n",
    "        \n",
    "        # Define dropout layer\n",
    "        self.conv2_drop = nn.Dropout2d(p=dropout_rate)\n",
    "\n",
    "        # Calculate output size after each convolution and pooling layer\n",
    "        # After conv1 + max pooling\n",
    "        self.outpool1 = ((28 - kernel_size + 2 * padding) // stride + 1) // 2  # 28x28 -> pooled output size\n",
    "        # After conv2 + max pooling\n",
    "        self.outpool2 = ((self.outpool1 - kernel_size + 2 * padding) // stride + 1) // 2\n",
    "\n",
    "        # Define fully connected layers based on flattened output from conv layers\n",
    "        self.fc1 = nn.Linear(int(self.outpool2 * self.outpool2 * n_hidden2), 50)\n",
    "        self.fc2 = nn.Linear(50, 10)\n",
    "\n",
    "        self.n_hidden2 = n_hidden2\n",
    "        self.activation = activation\n",
    "    \n",
    "    def forward(self, x):\n",
    "        # Forward pass through conv layers and max pooling\n",
    "        x = self.activation(F.max_pool2d(self.conv1(x), 2))\n",
    "        x = self.activation(F.max_pool2d(self.conv2_drop(self.conv2(x)), 2))\n",
    "\n",
    "        # Flatten the output for the fully connected layer\n",
    "        x = x.view(-1, int(self.outpool2 * self.outpool2 * self.n_hidden2))\n",
    "        x = self.activation(self.fc1(x))\n",
    "        x = F.dropout(x, training=self.training)\n",
    "        x = self.fc2(x)\n",
    "\n",
    "        return x\n"
   ]
  },
  {
   "cell_type": "markdown",
   "id": "dd732921-7c59-474d-ac15-362d40876f33",
   "metadata": {},
   "source": [
    "Ref: https://github.com/dandiws/CNN-MNIST-pytorch/blob/master/cnn_mnist.py;\n",
    "\n",
    "https://www.youtube.com/watch?v=vBlO87ZAiiw;\n",
    "\n",
    "https://www.youtube.com/watch?v=pDdP0TFzsoQ;\n",
    "\n",
    "https://www.youtube.com/watch?v=gBw0u_5u0qU&t=1292s"
   ]
  },
  {
   "cell_type": "markdown",
   "id": "9c49191b-13a1-4176-ac70-22c7add4194b",
   "metadata": {},
   "source": [
    "##### To train our model let's use cross entropy loss function first and use Adam and SGD optimizer. We will create two models and compare the two optimizers and then use one model for future."
   ]
  },
  {
   "cell_type": "markdown",
   "id": "066e4f5b-c998-4c11-8ca0-e9f3e3dd7d58",
   "metadata": {},
   "source": [
    "##### Cross entropy loss function with Adam Optimizer"
   ]
  },
  {
   "cell_type": "markdown",
   "id": "545f169b-d85f-421b-9301-91b105a063cf",
   "metadata": {},
   "source": [
    "##### (3) Trainig model and computing accuracy"
   ]
  },
  {
   "cell_type": "code",
   "execution_count": 11,
   "id": "3a682179",
   "metadata": {},
   "outputs": [
    {
     "name": "stderr",
     "output_type": "stream",
     "text": [
      "100%|████████████████████████████████████████████████████████████████████████████████████████████████████| 50/50 [02:09<00:00,  2.60s/it]\n"
     ]
    }
   ],
   "source": [
    "\n",
    "from tqdm import tqdm\n",
    "import torch.optim as optim  \n",
    "\n",
    "device = torch.device('cuda' if torch.cuda.is_available() else 'cpu')\n",
    "\n",
    "model_adam = CNN().to(device)\n",
    "optimizer = optim.Adam(model_adam.parameters(), lr=0.001)\n",
    "loss_fn = nn.CrossEntropyLoss()\n",
    "\n",
    "n_epochs = 50\n",
    "train_loss, val_loss = [], []\n",
    "train_accuracy, val_accuracy = [], []\n",
    "\n",
    "for epoch in tqdm(range(n_epochs)):\n",
    "    # Training\n",
    "    model_adam.train()\n",
    "    epoch_train_loss = []\n",
    "    correct_train = 0\n",
    "    total_train = 0\n",
    "    for batch, (X, y) in enumerate(train_loader):\n",
    "        X, y = X.to(device), y.to(device)\n",
    "        preds = model_adam(X)\n",
    "        loss = loss_fn(preds, y)\n",
    "\n",
    "        optimizer.zero_grad()\n",
    "        loss.backward()\n",
    "        optimizer.step()\n",
    "\n",
    "        epoch_train_loss.append(loss.item())\n",
    "        \n",
    "        # Calculate accuracy\n",
    "        predicted = preds.argmax(dim=1, keepdim=True)  \n",
    "        correct_train += predicted.eq(y.view_as(predicted)).sum().item()\n",
    "        total_train += y.size(0)\n",
    "\n",
    "    train_loss.append(np.mean(epoch_train_loss))\n",
    "    train_accuracy.append(correct_train / total_train)  # Training accuracy\n",
    "\n",
    "    # Validation\n",
    "    model_adam.eval()\n",
    "    epoch_val_loss = []\n",
    "    correct_val = 0\n",
    "    total_val = 0\n",
    "    with torch.no_grad():\n",
    "        for batch, (X, y) in enumerate(val_loader):\n",
    "            X, y = X.to(device), y.to(device)\n",
    "            preds = model_adam(X)\n",
    "            loss = loss_fn(preds, y)\n",
    "            epoch_val_loss.append(loss.item())\n",
    "            \n",
    "            # Calculate accuracy\n",
    "            predicted = preds.argmax(dim=1, keepdim=True)  \n",
    "            correct_val += predicted.eq(y.view_as(predicted)).sum().item()\n",
    "            total_val += y.size(0)\n",
    "\n",
    "    val_loss.append(np.mean(epoch_val_loss))\n",
    "    val_accuracy.append(correct_val / total_val)  # Validation accuracy\n",
    "\n",
    "# Convert lists to numpy arrays if needed\n",
    "train_loss_adam = np.array(train_loss)\n",
    "val_loss_adam = np.array(val_loss)\n",
    "train_accuracy_adam = np.array(train_accuracy)\n",
    "val_accuracy_adam = np.array(val_accuracy)\n"
   ]
  },
  {
   "cell_type": "code",
   "execution_count": 12,
   "id": "45f4c0f5-b384-403d-af9f-edb20f8b1950",
   "metadata": {},
   "outputs": [
    {
     "name": "stdout",
     "output_type": "stream",
     "text": [
      "Overall classification accuracy on validation dataset:0.99\n"
     ]
    },
    {
     "data": {
      "image/png": "[encoded data removed]",
      "text/plain": [
       "<Figure size 1200x500 with 2 Axes>"
      ]
     },
     "metadata": {},
     "output_type": "display_data"
    }
   ],
   "source": [
    "fig , ax = plt.subplots(\n",
    "    nrows=1,\n",
    "    ncols=2,\n",
    "    figsize=(12, 5))\n",
    "\n",
    "ax[0].plot(np.arange(n_epochs),train_loss_adam,label='Training')\n",
    "ax[0].plot(np.arange(n_epochs),val_loss_adam,label='Validation')\n",
    "ax[0].legend()\n",
    "ax[0].set_xlabel('epochs')\n",
    "ax[0].set_ylabel('Loss')\n",
    "\n",
    "ax[1].plot(np.arange(n_epochs),train_accuracy_adam,label='Training')\n",
    "ax[1].plot(np.arange(n_epochs),val_accuracy_adam,label='Validation')\n",
    "ax[1].legend()\n",
    "ax[1].set_xlabel('epochs')\n",
    "ax[1].set_ylabel('Accuracy')\n",
    "\n",
    "print('Overall classification accuracy on validation dataset:%.2f'%val_accuracy_adam[-1])"
   ]
  },
  {
   "cell_type": "markdown",
   "id": "307003f3-1535-4b79-96f1-bbc7abb055e0",
   "metadata": {},
   "source": [
    "Here for both training and validation set the loss appear to plateau with number of epochs, suggesting the current number of iteractions are good enough. \n",
    "\n",
    "One thing to notice is training loss appears high compared to validation loss. This could be due to the dropout rate use while training.\n",
    "\n",
    "____________________________________\n",
    "Ref: https://siddiqueabusaleh.medium.com/why-my-training-loss-is-higher-than-validation-loss-is-the-reported-loss-even-accurate-8843e14a0756#:~:text=Dropout:%20During%20training%2C%20the%20inclusion,this%20can%20be%20expressed%20as:\n",
    "\n",
    "Dropout: During training, the inclusion of dropout means that a certain percentage of neurons are randomly disabled. This effectively creates a different, “thinned” network at each training step. The loss calculated during these steps reflects the performance of a network under these regularization conditions, the displayed loss is generally higher because the network isn’t leveraging its full capacity.\n",
    "\n",
    "When the model is in test mode, dropout is not applied. The network uses all its neurons, thus operating at full capacity. This typically results in a lower loss and higher accuracy compared to those reported during training epochs, as the network can now leverage all available resources and information."
   ]
  },
  {
   "cell_type": "markdown",
   "id": "52475b7d-ca41-4335-a876-df647b87551c",
   "metadata": {},
   "source": [
    "##### Cross entropy loss function with SGD Optimizer"
   ]
  },
  {
   "cell_type": "code",
   "execution_count": 13,
   "id": "a34302df-7b57-4ee0-99aa-04076552f786",
   "metadata": {},
   "outputs": [
    {
     "name": "stderr",
     "output_type": "stream",
     "text": [
      "100%|████████████████████████████████████████████████████████████████████████████████████████████████████| 50/50 [02:01<00:00,  2.42s/it]\n"
     ]
    }
   ],
   "source": [
    "\n",
    "device = torch.device('cuda' if torch.cuda.is_available() else 'cpu')\n",
    "\n",
    "model_sgd = CNN().to(device)\n",
    "optimizer = optim.SGD(model_sgd.parameters(), lr=0.001,momentum=0.01)\n",
    "loss_fn = nn.CrossEntropyLoss()\n",
    "\n",
    "n_epochs = 50\n",
    "train_loss, val_loss = [], []\n",
    "train_accuracy, val_accuracy = [], []\n",
    "\n",
    "for epoch in tqdm(range(n_epochs)):\n",
    "    # Training\n",
    "    model_sgd.train()\n",
    "    epoch_train_loss = []\n",
    "    correct_train = 0\n",
    "    total_train = 0\n",
    "    for batch, (X, y) in enumerate(train_loader):\n",
    "        X, y = X.to(device), y.to(device)\n",
    "        preds = model_sgd(X)\n",
    "        loss = loss_fn(preds, y)\n",
    "\n",
    "        optimizer.zero_grad()\n",
    "        loss.backward()\n",
    "        optimizer.step()\n",
    "\n",
    "        epoch_train_loss.append(loss.item())\n",
    "        \n",
    "        # Calculate accuracy\n",
    "        predicted = preds.argmax(dim=1, keepdim=True)  \n",
    "        correct_train += predicted.eq(y.view_as(predicted)).sum().item()\n",
    "        total_train += y.size(0)\n",
    "\n",
    "    train_loss.append(np.mean(epoch_train_loss))\n",
    "    train_accuracy.append(correct_train / total_train)  # Training accuracy\n",
    "\n",
    "    # Validation\n",
    "    model_sgd.eval()\n",
    "    epoch_val_loss = []\n",
    "    correct_val = 0\n",
    "    total_val = 0\n",
    "    with torch.no_grad():\n",
    "        for batch, (X, y) in enumerate(val_loader):\n",
    "            X, y = X.to(device), y.to(device)\n",
    "            preds = model_sgd(X)\n",
    "            loss = loss_fn(preds, y)\n",
    "            epoch_val_loss.append(loss.item())\n",
    "            \n",
    "            # Calculate accuracy\n",
    "            predicted = preds.argmax(dim=1, keepdim=True)  # Get the index of the max log-probability\n",
    "            correct_val += predicted.eq(y.view_as(predicted)).sum().item()\n",
    "            total_val += y.size(0)\n",
    "\n",
    "    val_loss.append(np.mean(epoch_val_loss))\n",
    "    val_accuracy.append(correct_val / total_val)  # Validation accuracy\n",
    "\n",
    "# Convert lists to numpy arrays if needed\n",
    "train_loss_sgd = np.array(train_loss)\n",
    "val_loss_sgd = np.array(val_loss)\n",
    "train_accuracy_sgd = np.array(train_accuracy)\n",
    "val_accuracy_sgd = np.array(val_accuracy)\n"
   ]
  },
  {
   "cell_type": "code",
   "execution_count": 15,
   "id": "60121eba-79e8-4f92-82b0-3b0ae1ba5bcc",
   "metadata": {},
   "outputs": [
    {
     "name": "stdout",
     "output_type": "stream",
     "text": [
      "Overall classification accuracy on validation dataset:0.94\n"
     ]
    },
    {
     "data": {
      "image/png": "[encoded data removed]",
      "text/plain": [
       "<Figure size 1200x500 with 2 Axes>"
      ]
     },
     "metadata": {},
     "output_type": "display_data"
    }
   ],
   "source": [
    "fig , ax = plt.subplots(\n",
    "    nrows=1,\n",
    "    ncols=2,\n",
    "    figsize=(12, 5))\n",
    "\n",
    "ax[0].plot(np.arange(n_epochs),train_loss_sgd,label='Training')\n",
    "ax[0].plot(np.arange(n_epochs),val_loss_sgd,label='Validation')\n",
    "ax[0].legend()\n",
    "ax[0].set_xlabel('epochs')\n",
    "ax[0].set_ylabel('Loss')\n",
    "\n",
    "ax[1].plot(np.arange(n_epochs),train_accuracy_sgd,label='Training')\n",
    "ax[1].plot(np.arange(n_epochs),val_accuracy_sgd,label='Validation')\n",
    "ax[1].legend()\n",
    "ax[1].set_xlabel('epochs')\n",
    "ax[1].set_ylabel('Accuracy')\n",
    "\n",
    "print('Overall classification accuracy on validation dataset:%.2f'%val_accuracy_sgd[-1])"
   ]
  },
  {
   "cell_type": "markdown",
   "id": "5e23a859-fbe1-458b-afa5-c16ccf70fd9f",
   "metadata": {},
   "source": [
    "From the above comparisons it seems like Adam optimizer is going a better job compared to SGD. I will continue with Adam optimizer model."
   ]
  },
  {
   "cell_type": "markdown",
   "id": "50e365e3-adfe-4917-a0a1-176a7b38bcb9",
   "metadata": {},
   "source": [
    "##### (2) Visualizing filters in each layer for model with adam optimizer"
   ]
  },
  {
   "cell_type": "code",
   "execution_count": 16,
   "id": "2669df0e-a45c-4170-a826-3d4919863dc2",
   "metadata": {},
   "outputs": [
    {
     "data": {
      "image/png": "[encoded data removed]",
      "text/plain": [
       "<Figure size 1500x300 with 10 Axes>"
      ]
     },
     "metadata": {},
     "output_type": "display_data"
    },
    {
     "data": {
      "image/png": "[encoded data removed]",
      "text/plain": [
       "<Figure size 1500x300 with 20 Axes>"
      ]
     },
     "metadata": {},
     "output_type": "display_data"
    },
    {
     "name": "stdout",
     "output_type": "stream",
     "text": [
      "Overall classification accuracy on validation dataset:0.99\n"
     ]
    }
   ],
   "source": [
    "# Access the filters for the first conv layer in model_adam\n",
    "filters = model_adam.conv1.weight.data.cpu().numpy()\n",
    "fig, axes = plt.subplots(2, int(len(filters)/2), figsize=(15, 3))\n",
    "axes = axes.ravel()\n",
    "for i, ax in enumerate(axes):\n",
    "    ax.imshow(filters[i, 0, :, :], cmap='gray')  # Assuming grayscale filters\n",
    "    ax.axis('off')\n",
    "plt.suptitle('Filters in first convolution layer (Adam Optimizer)')\n",
    "plt.show()\n",
    "\n",
    "# Access the filters for the second conv layer in model_adam\n",
    "filters = model_adam.conv2.weight.data.cpu().numpy()\n",
    "\n",
    "fig, axes = plt.subplots(2, int(len(filters)/2), figsize=(15, 3))\n",
    "axes = axes.ravel()\n",
    "for i, ax in enumerate(axes):\n",
    "    ax.imshow(filters[i, 0, :, :], cmap='gray')  # Assuming grayscale filters\n",
    "    ax.axis('off')\n",
    "plt.suptitle('Filters in second convolution layer (Adam Optimizer)')\n",
    "plt.show()\n",
    "\n",
    "print('Overall classification accuracy on validation dataset:%.2f'%val_accuracy_adam[-1])"
   ]
  },
  {
   "cell_type": "markdown",
   "id": "99a409f9-19d9-4392-a091-fde6755abbea",
   "metadata": {},
   "source": [
    "##### (4) Testing hyperparameters"
   ]
  },
  {
   "cell_type": "markdown",
   "id": "1eadb91b-4c18-4149-9146-2e66e3c34f1f",
   "metadata": {},
   "source": [
    "##### Here I will be tuning number of filters in first and second convolution layers, kernel size, dropout rate, learning rate of optimizer, weight regularization of optimizer, and activation function. I will tune it one at a time. First let's test number of filters in first and second conv layer."
   ]
  },
  {
   "cell_type": "code",
   "execution_count": 20,
   "id": "a13624e8-0654-4900-9e32-077b125abdb6",
   "metadata": {},
   "outputs": [
    {
     "name": "stdout",
     "output_type": "stream",
     "text": [
      "n_hidden1: 5 n_hidden2: 15 kernel_size: 5 dropout_rate: 0.5 lr: 0.001 weight_decay: 0 activation: <function relu at 0x75fc7545a430>\n",
      "Validation Accuracy: 0.97725\n",
      "n_hidden1: 5 n_hidden2: 20 kernel_size: 5 dropout_rate: 0.5 lr: 0.001 weight_decay: 0 activation: <function relu at 0x75fc7545a430>\n",
      "Validation Accuracy: 0.98175\n",
      "n_hidden1: 5 n_hidden2: 25 kernel_size: 5 dropout_rate: 0.5 lr: 0.001 weight_decay: 0 activation: <function relu at 0x75fc7545a430>\n",
      "Validation Accuracy: 0.9836666666666667\n",
      "n_hidden1: 10 n_hidden2: 15 kernel_size: 5 dropout_rate: 0.5 lr: 0.001 weight_decay: 0 activation: <function relu at 0x75fc7545a430>\n",
      "Validation Accuracy: 0.9783333333333334\n",
      "n_hidden1: 10 n_hidden2: 20 kernel_size: 5 dropout_rate: 0.5 lr: 0.001 weight_decay: 0 activation: <function relu at 0x75fc7545a430>\n",
      "Validation Accuracy: 0.9840833333333333\n",
      "n_hidden1: 10 n_hidden2: 25 kernel_size: 5 dropout_rate: 0.5 lr: 0.001 weight_decay: 0 activation: <function relu at 0x75fc7545a430>\n",
      "Validation Accuracy: 0.9845\n",
      "n_hidden1: 15 n_hidden2: 15 kernel_size: 5 dropout_rate: 0.5 lr: 0.001 weight_decay: 0 activation: <function relu at 0x75fc7545a430>\n",
      "Validation Accuracy: 0.9795\n",
      "n_hidden1: 15 n_hidden2: 20 kernel_size: 5 dropout_rate: 0.5 lr: 0.001 weight_decay: 0 activation: <function relu at 0x75fc7545a430>\n",
      "Validation Accuracy: 0.9821666666666666\n",
      "n_hidden1: 15 n_hidden2: 25 kernel_size: 5 dropout_rate: 0.5 lr: 0.001 weight_decay: 0 activation: <function relu at 0x75fc7545a430>\n",
      "Validation Accuracy: 0.9859166666666667\n",
      "#########################################################\n",
      "Best Hyperparameters: (15, 25, 5, 0.5, 0.001, 0, <function relu at 0x75fc7545a430>)\n",
      "Validation Accuracy with Best Hyperparameters: 0.9859166666666667\n"
     ]
    }
   ],
   "source": [
    "### Tuning number of filters\n",
    "\n",
    "# Hyperparameters\n",
    "hyperparameters= {\n",
    "    'n_hidden1': [5,10,15],       # Number of filters in first conv layer\n",
    "    'n_hidden2': [15,20,25],      # Number of filters in second conv layer\n",
    "    'kernel_size': [5],          # Kernel size for conv layers\n",
    "    'dropout_rate': [0.5],     # Dropout rate\n",
    "    'lr': [ 0.001],          # Learning rate\n",
    "    'weight_decay': [0],       # Weight regularization (L2 penalty)\n",
    "    'acitvation':[F.relu]     #activation\n",
    "}\n",
    "\n",
    "# Results dictionary \n",
    "results = {}\n",
    "\n",
    "device = torch.device('cuda' if torch.cuda.is_available() else 'cpu')\n",
    "\n",
    "for n_hidden1 in hyperparameters['n_hidden1']:\n",
    "    for n_hidden2 in hyperparameters['n_hidden2']:\n",
    "        for kernel_size in hyperparameters['kernel_size']:\n",
    "            for dropout_rate in hyperparameters['dropout_rate']:\n",
    "                for lr in hyperparameters['lr']:\n",
    "                    for weight_decay in hyperparameters['weight_decay']:\n",
    "                        for activation in hyperparameters['acitvation']:\n",
    "                            print('n_hidden1:',n_hidden1,'n_hidden2:',n_hidden2,'kernel_size:',kernel_size,'dropout_rate:',dropout_rate,'lr:',lr,'weight_decay:',weight_decay,'activation:',activation)\n",
    "                            \n",
    "                            # Define model with the current set of hyperparameters\n",
    "                            model = CNN(\n",
    "                                in_channels=1,\n",
    "                                n_hidden1=n_hidden1,\n",
    "                                n_hidden2=n_hidden2,\n",
    "                                kernel_size=kernel_size,\n",
    "                                dropout_rate=dropout_rate,\n",
    "                                activation=activation\n",
    "                            ).to(device)\n",
    "                            \n",
    "                            optimizer = optim.Adam(model.parameters(), lr=lr, weight_decay=weight_decay)\n",
    "                            loss_fn = nn.CrossEntropyLoss()\n",
    "                            n_epochs = 10  \n",
    "                            val_loss = []\n",
    "                            val_accuracy = []\n",
    "\n",
    "                            for epoch in range(n_epochs):\n",
    "                                \n",
    "                                # Training\n",
    "                                model.train()\n",
    "                                for batch, (X, y) in enumerate(train_loader):\n",
    "                                    X, y = X.to(device), y.to(device)\n",
    "                                    optimizer.zero_grad()\n",
    "                                    preds = model(X)\n",
    "                                    loss = loss_fn(preds, y)\n",
    "                                    loss.backward()\n",
    "                                    optimizer.step()\n",
    "\n",
    "                                # Validation\n",
    "                                model.eval()\n",
    "                                correct_val = 0\n",
    "                                total_val = 0\n",
    "                                epoch_val_loss = []\n",
    "                                with torch.no_grad():\n",
    "                                    for batch, (X, y) in enumerate(val_loader):\n",
    "                                        X, y = X.to(device), y.to(device)\n",
    "                                        preds = model(X)\n",
    "                                        loss = loss_fn(preds, y)\n",
    "                                        epoch_val_loss.append(loss.item())\n",
    "                                        \n",
    "                                        # Calculate accuracy\n",
    "                                        predicted = preds.argmax(dim=1, keepdim=True)  \n",
    "                                        correct_val += predicted.eq(y.view_as(predicted)).sum().item()\n",
    "                                        total_val += y.size(0)\n",
    "\n",
    "                                val_loss.append(np.mean(epoch_val_loss))\n",
    "                                val_accuracy.append(correct_val / total_val)\n",
    "\n",
    "                            print('Validation Accuracy:',val_accuracy[-1])\n",
    "                            # Store results for this hyperparameter combination\n",
    "                            results[(n_hidden1, n_hidden2, kernel_size, dropout_rate, lr, weight_decay,activation)] = {\n",
    "                                'val_loss': val_loss[-1],\n",
    "                                'val_accuracy': val_accuracy[-1]\n",
    "                            }\n",
    "\n",
    "print('#########################################################')\n",
    "# Find the best hyperparameter combination based on validation accuracy\n",
    "best_hyperparams = max(results, key=lambda x: results[x]['val_accuracy'])\n",
    "best_results = results[best_hyperparams]\n",
    "\n",
    "print(\"Best Hyperparameters:\", best_hyperparams)\n",
    "print(\"Validation Accuracy with Best Hyperparameters:\", best_results['val_accuracy'])"
   ]
  },
  {
   "cell_type": "markdown",
   "id": "10b523e3-7f69-4fb3-ab51-2098f7ce8b73",
   "metadata": {},
   "source": [
    "From the above the best number of filters in first and second convolution are 15 and 25 respectively. Let's use this and tune other hyper parameters. Let's tune kernel size now."
   ]
  },
  {
   "cell_type": "code",
   "execution_count": 21,
   "id": "dc67c852-8fce-41cc-8750-654efcf1f363",
   "metadata": {},
   "outputs": [
    {
     "name": "stdout",
     "output_type": "stream",
     "text": [
      "n_hidden1: 15 n_hidden2: 25 kernel_size: 2 dropout_rate: 0.5 lr: 0.001 weight_decay: 0 activation: <function relu at 0x75fc7545a430>\n",
      "Validation Accuracy: 0.9759166666666667\n",
      "n_hidden1: 15 n_hidden2: 25 kernel_size: 3 dropout_rate: 0.5 lr: 0.001 weight_decay: 0 activation: <function relu at 0x75fc7545a430>\n",
      "Validation Accuracy: 0.984\n",
      "n_hidden1: 15 n_hidden2: 25 kernel_size: 5 dropout_rate: 0.5 lr: 0.001 weight_decay: 0 activation: <function relu at 0x75fc7545a430>\n",
      "Validation Accuracy: 0.9868333333333333\n",
      "#########################################################\n",
      "Best Hyperparameters: (15, 25, 5, 0.5, 0.001, 0, <function relu at 0x75fc7545a430>)\n",
      "Validation Accuracy with Best Hyperparameters: 0.9868333333333333\n"
     ]
    }
   ],
   "source": [
    "## Tuning Kernel size\n",
    "\n",
    "# Hyperparameters\n",
    "hyperparameters= {\n",
    "    'n_hidden1': [15],       # Number of filters in first conv layer\n",
    "    'n_hidden2': [25],      # Number of filters in second conv layer\n",
    "    'kernel_size': [2,3,5],          # Kernel size for conv layers\n",
    "    'dropout_rate': [0.5],     # Dropout rate\n",
    "    'lr': [ 0.001],          # Learning rate\n",
    "    'weight_decay': [0],       # Weight regularization (L2 penalty)\n",
    "    'acitvation':[F.relu]     #activation\n",
    "}\n",
    "\n",
    "# Results dictionary \n",
    "results = {}\n",
    "\n",
    "device = torch.device('cuda' if torch.cuda.is_available() else 'cpu')\n",
    "\n",
    "for n_hidden1 in hyperparameters['n_hidden1']:\n",
    "    for n_hidden2 in hyperparameters['n_hidden2']:\n",
    "        for kernel_size in hyperparameters['kernel_size']:\n",
    "            for dropout_rate in hyperparameters['dropout_rate']:\n",
    "                for lr in hyperparameters['lr']:\n",
    "                    for weight_decay in hyperparameters['weight_decay']:\n",
    "                        for activation in hyperparameters['acitvation']:\n",
    "                            print('n_hidden1:',n_hidden1,'n_hidden2:',n_hidden2,'kernel_size:',kernel_size,'dropout_rate:',dropout_rate,'lr:',lr,'weight_decay:',weight_decay,'activation:',activation)\n",
    "                            \n",
    "                            # Define model with the current set of hyperparameters\n",
    "                            model = CNN(\n",
    "                                in_channels=1,\n",
    "                                n_hidden1=n_hidden1,\n",
    "                                n_hidden2=n_hidden2,\n",
    "                                kernel_size=kernel_size,\n",
    "                                dropout_rate=dropout_rate,\n",
    "                                activation=activation\n",
    "                            ).to(device)\n",
    "                            \n",
    "                            optimizer = optim.Adam(model.parameters(), lr=lr, weight_decay=weight_decay)\n",
    "                            loss_fn = nn.CrossEntropyLoss()\n",
    "                            n_epochs = 10  \n",
    "                            val_loss = []\n",
    "                            val_accuracy = []\n",
    "\n",
    "                            for epoch in range(n_epochs):\n",
    "                                \n",
    "                                # Training\n",
    "                                model.train()\n",
    "                                for batch, (X, y) in enumerate(train_loader):\n",
    "                                    X, y = X.to(device), y.to(device)\n",
    "                                    optimizer.zero_grad()\n",
    "                                    preds = model(X)\n",
    "                                    loss = loss_fn(preds, y)\n",
    "                                    loss.backward()\n",
    "                                    optimizer.step()\n",
    "\n",
    "                                # Validation\n",
    "                                model.eval()\n",
    "                                correct_val = 0\n",
    "                                total_val = 0\n",
    "                                epoch_val_loss = []\n",
    "                                with torch.no_grad():\n",
    "                                    for batch, (X, y) in enumerate(val_loader):\n",
    "                                        X, y = X.to(device), y.to(device)\n",
    "                                        preds = model(X)\n",
    "                                        loss = loss_fn(preds, y)\n",
    "                                        epoch_val_loss.append(loss.item())\n",
    "                                        \n",
    "                                        # Calculate accuracy\n",
    "                                        predicted = preds.argmax(dim=1, keepdim=True) \n",
    "                                        correct_val += predicted.eq(y.view_as(predicted)).sum().item()\n",
    "                                        total_val += y.size(0)\n",
    "\n",
    "                                val_loss.append(np.mean(epoch_val_loss))\n",
    "                                val_accuracy.append(correct_val / total_val)\n",
    "\n",
    "                            print('Validation Accuracy:',val_accuracy[-1])\n",
    "                            # Store results for this hyperparameter combination\n",
    "                            results[(n_hidden1, n_hidden2, kernel_size, dropout_rate, lr, weight_decay,activation)] = {\n",
    "                                'val_loss': val_loss[-1],\n",
    "                                'val_accuracy': val_accuracy[-1]\n",
    "                            }\n",
    "\n",
    "print('#########################################################')\n",
    "# Find the best hyperparameter combination based on validation accuracy\n",
    "best_hyperparams = max(results, key=lambda x: results[x]['val_accuracy'])\n",
    "best_results = results[best_hyperparams]\n",
    "\n",
    "print(\"Best Hyperparameters:\", best_hyperparams)\n",
    "print(\"Validation Accuracy with Best Hyperparameters:\", best_results['val_accuracy'])"
   ]
  },
  {
   "cell_type": "markdown",
   "id": "6c6fd51c-c2cb-4dff-8c0f-d351a624cfcd",
   "metadata": {},
   "source": [
    "From the above the best kernel size comes out to be 5. Let's tune dropout rate now.\n"
   ]
  },
  {
   "cell_type": "code",
   "execution_count": 22,
   "id": "5b3a9b55-c4cc-4f0b-b86e-3f32ad5dfc01",
   "metadata": {},
   "outputs": [
    {
     "name": "stdout",
     "output_type": "stream",
     "text": [
      "n_hidden1: 15 n_hidden2: 25 kernel_size: 5 dropout_rate: 0.1 lr: 0.001 weight_decay: 0 activation: <function relu at 0x75fc7545a430>\n",
      "Validation Accuracy: 0.9884166666666667\n",
      "n_hidden1: 15 n_hidden2: 25 kernel_size: 5 dropout_rate: 0.2 lr: 0.001 weight_decay: 0 activation: <function relu at 0x75fc7545a430>\n",
      "Validation Accuracy: 0.9866666666666667\n",
      "n_hidden1: 15 n_hidden2: 25 kernel_size: 5 dropout_rate: 0.3 lr: 0.001 weight_decay: 0 activation: <function relu at 0x75fc7545a430>\n",
      "Validation Accuracy: 0.9883333333333333\n",
      "n_hidden1: 15 n_hidden2: 25 kernel_size: 5 dropout_rate: 0.5 lr: 0.001 weight_decay: 0 activation: <function relu at 0x75fc7545a430>\n",
      "Validation Accuracy: 0.9846666666666667\n",
      "#########################################################\n",
      "Best Hyperparameters: (15, 25, 5, 0.1, 0.001, 0, <function relu at 0x75fc7545a430>)\n",
      "Validation Accuracy with Best Hyperparameters: 0.9884166666666667\n"
     ]
    }
   ],
   "source": [
    "## Tuning dropout rate\n",
    "\n",
    "# Hyperparameters\n",
    "hyperparameters= {\n",
    "    'n_hidden1': [15],       # Number of filters in first conv layer\n",
    "    'n_hidden2': [25],      # Number of filters in second conv layer\n",
    "    'kernel_size': [5],          # Kernel size for conv layers\n",
    "    'dropout_rate': [0.1,0.2,0.3,0.5],     # Dropout rate\n",
    "    'lr': [ 0.001],          # Learning rate\n",
    "    'weight_decay': [0],       # Weight regularization (L2 penalty)\n",
    "    'acitvation':[F.relu]     #activation\n",
    "}\n",
    "\n",
    "# Results dictionary \n",
    "results = {}\n",
    "\n",
    "device = torch.device('cuda' if torch.cuda.is_available() else 'cpu')\n",
    "\n",
    "for n_hidden1 in hyperparameters['n_hidden1']:\n",
    "    for n_hidden2 in hyperparameters['n_hidden2']:\n",
    "        for kernel_size in hyperparameters['kernel_size']:\n",
    "            for dropout_rate in hyperparameters['dropout_rate']:\n",
    "                for lr in hyperparameters['lr']:\n",
    "                    for weight_decay in hyperparameters['weight_decay']:\n",
    "                        for activation in hyperparameters['acitvation']:\n",
    "                            print('n_hidden1:',n_hidden1,'n_hidden2:',n_hidden2,'kernel_size:',kernel_size,'dropout_rate:',dropout_rate,'lr:',lr,'weight_decay:',weight_decay,'activation:',activation)\n",
    "                            \n",
    "                            # Define model with the current set of hyperparameters\n",
    "                            model = CNN(\n",
    "                                in_channels=1,\n",
    "                                n_hidden1=n_hidden1,\n",
    "                                n_hidden2=n_hidden2,\n",
    "                                kernel_size=kernel_size,\n",
    "                                dropout_rate=dropout_rate,\n",
    "                                activation=activation\n",
    "                            ).to(device)\n",
    "                            \n",
    "                            optimizer = optim.Adam(model.parameters(), lr=lr, weight_decay=weight_decay)\n",
    "                            loss_fn = nn.CrossEntropyLoss()\n",
    "                            n_epochs = 10  \n",
    "                            val_loss = []\n",
    "                            val_accuracy = []\n",
    "\n",
    "                            for epoch in range(n_epochs):\n",
    "                                \n",
    "                                # Training\n",
    "                                model.train()\n",
    "                                for batch, (X, y) in enumerate(train_loader):\n",
    "                                    X, y = X.to(device), y.to(device)\n",
    "                                    optimizer.zero_grad()\n",
    "                                    preds = model(X)\n",
    "                                    loss = loss_fn(preds, y)\n",
    "                                    loss.backward()\n",
    "                                    optimizer.step()\n",
    "\n",
    "                                # Validation\n",
    "                                model.eval()\n",
    "                                correct_val = 0\n",
    "                                total_val = 0\n",
    "                                epoch_val_loss = []\n",
    "                                with torch.no_grad():\n",
    "                                    for batch, (X, y) in enumerate(val_loader):\n",
    "                                        X, y = X.to(device), y.to(device)\n",
    "                                        preds = model(X)\n",
    "                                        loss = loss_fn(preds, y)\n",
    "                                        epoch_val_loss.append(loss.item())\n",
    "                                        \n",
    "                                        # Calculate accuracy\n",
    "                                        predicted = preds.argmax(dim=1, keepdim=True)  \n",
    "                                        correct_val += predicted.eq(y.view_as(predicted)).sum().item()\n",
    "                                        total_val += y.size(0)\n",
    "\n",
    "                                val_loss.append(np.mean(epoch_val_loss))\n",
    "                                val_accuracy.append(correct_val / total_val)\n",
    "\n",
    "                            print('Validation Accuracy:',val_accuracy[-1])\n",
    "                            # Store results for this hyperparameter combination\n",
    "                            results[(n_hidden1, n_hidden2, kernel_size, dropout_rate, lr, weight_decay,activation)] = {\n",
    "                                'val_loss': val_loss[-1],\n",
    "                                'val_accuracy': val_accuracy[-1]\n",
    "                            }\n",
    "\n",
    "print('#########################################################')\n",
    "# Find the best hyperparameter combination based on validation accuracy\n",
    "best_hyperparams = max(results, key=lambda x: results[x]['val_accuracy'])\n",
    "best_results = results[best_hyperparams]\n",
    "\n",
    "print(\"Best Hyperparameters:\", best_hyperparams)\n",
    "print(\"Validation Accuracy with Best Hyperparameters:\", best_results['val_accuracy'])"
   ]
  },
  {
   "cell_type": "markdown",
   "id": "4c99d24b-bffa-439f-9c52-87c5559a20d5",
   "metadata": {},
   "source": [
    "From the above dropout rate of 0.1 appears to be best. Let's try tuning learning rate now. "
   ]
  },
  {
   "cell_type": "code",
   "execution_count": 23,
   "id": "cedbb3e3-e835-442a-884d-3d7734bbb832",
   "metadata": {},
   "outputs": [
    {
     "name": "stdout",
     "output_type": "stream",
     "text": [
      "n_hidden1: 15 n_hidden2: 25 kernel_size: 5 dropout_rate: 0.1 lr: 0.01 weight_decay: 0 activation: <function relu at 0x75fc7545a430>\n",
      "Validation Accuracy: 0.9735833333333334\n",
      "n_hidden1: 15 n_hidden2: 25 kernel_size: 5 dropout_rate: 0.1 lr: 0.001 weight_decay: 0 activation: <function relu at 0x75fc7545a430>\n",
      "Validation Accuracy: 0.9889166666666667\n",
      "n_hidden1: 15 n_hidden2: 25 kernel_size: 5 dropout_rate: 0.1 lr: 0.0001 weight_decay: 0 activation: <function relu at 0x75fc7545a430>\n",
      "Validation Accuracy: 0.975\n",
      "#########################################################\n",
      "Best Hyperparameters: (15, 25, 5, 0.1, 0.001, 0, <function relu at 0x75fc7545a430>)\n",
      "Validation Accuracy with Best Hyperparameters: 0.9889166666666667\n"
     ]
    }
   ],
   "source": [
    "## Tuning Learning rate\n",
    "\n",
    "# Hyperparameters\n",
    "hyperparameters= {\n",
    "    'n_hidden1': [15],       # Number of filters in first conv layer\n",
    "    'n_hidden2': [25],      # Number of filters in second conv layer\n",
    "    'kernel_size': [5],          # Kernel size for conv layers\n",
    "    'dropout_rate': [0.1],     # Dropout rate\n",
    "    'lr': [ 0.01,0.001,0.0001],          # Learning rate\n",
    "    'weight_decay': [0],       # Weight regularization (L2 penalty)\n",
    "    'acitvation':[F.relu]     #activation\n",
    "}\n",
    "\n",
    "# Results dictionary \n",
    "results = {}\n",
    "\n",
    "device = torch.device('cuda' if torch.cuda.is_available() else 'cpu')\n",
    "\n",
    "for n_hidden1 in hyperparameters['n_hidden1']:\n",
    "    for n_hidden2 in hyperparameters['n_hidden2']:\n",
    "        for kernel_size in hyperparameters['kernel_size']:\n",
    "            for dropout_rate in hyperparameters['dropout_rate']:\n",
    "                for lr in hyperparameters['lr']:\n",
    "                    for weight_decay in hyperparameters['weight_decay']:\n",
    "                        for activation in hyperparameters['acitvation']:\n",
    "                            print('n_hidden1:',n_hidden1,'n_hidden2:',n_hidden2,'kernel_size:',kernel_size,'dropout_rate:',dropout_rate,'lr:',lr,'weight_decay:',weight_decay,'activation:',activation)\n",
    "                            \n",
    "                            # Define model with the current set of hyperparameters\n",
    "                            model = CNN(\n",
    "                                in_channels=1,\n",
    "                                n_hidden1=n_hidden1,\n",
    "                                n_hidden2=n_hidden2,\n",
    "                                kernel_size=kernel_size,\n",
    "                                dropout_rate=dropout_rate,\n",
    "                                activation=activation\n",
    "                            ).to(device)\n",
    "                            \n",
    "                            optimizer = optim.Adam(model.parameters(), lr=lr, weight_decay=weight_decay)\n",
    "                            loss_fn = nn.CrossEntropyLoss()\n",
    "                            n_epochs = 10  \n",
    "                            val_loss = []\n",
    "                            val_accuracy = []\n",
    "\n",
    "                            for epoch in range(n_epochs):\n",
    "                                \n",
    "                                # Training\n",
    "                                model.train()\n",
    "                                for batch, (X, y) in enumerate(train_loader):\n",
    "                                    X, y = X.to(device), y.to(device)\n",
    "                                    optimizer.zero_grad()\n",
    "                                    preds = model(X)\n",
    "                                    loss = loss_fn(preds, y)\n",
    "                                    loss.backward()\n",
    "                                    optimizer.step()\n",
    "\n",
    "                                # Validation\n",
    "                                model.eval()\n",
    "                                correct_val = 0\n",
    "                                total_val = 0\n",
    "                                epoch_val_loss = []\n",
    "                                with torch.no_grad():\n",
    "                                    for batch, (X, y) in enumerate(val_loader):\n",
    "                                        X, y = X.to(device), y.to(device)\n",
    "                                        preds = model(X)\n",
    "                                        loss = loss_fn(preds, y)\n",
    "                                        epoch_val_loss.append(loss.item())\n",
    "                                        \n",
    "                                        # Calculate accuracy\n",
    "                                        predicted = preds.argmax(dim=1, keepdim=True)  \n",
    "                                        correct_val += predicted.eq(y.view_as(predicted)).sum().item()\n",
    "                                        total_val += y.size(0)\n",
    "\n",
    "                                val_loss.append(np.mean(epoch_val_loss))\n",
    "                                val_accuracy.append(correct_val / total_val)\n",
    "\n",
    "                            print('Validation Accuracy:',val_accuracy[-1])\n",
    "                            # Store results for this hyperparameter combination\n",
    "                            results[(n_hidden1, n_hidden2, kernel_size, dropout_rate, lr, weight_decay,activation)] = {\n",
    "                                'val_loss': val_loss[-1],\n",
    "                                'val_accuracy': val_accuracy[-1]\n",
    "                            }\n",
    "\n",
    "print('#########################################################')\n",
    "# Find the best hyperparameter combination based on validation accuracy\n",
    "best_hyperparams = max(results, key=lambda x: results[x]['val_accuracy'])\n",
    "best_results = results[best_hyperparams]\n",
    "\n",
    "print(\"Best Hyperparameters:\", best_hyperparams)\n",
    "print(\"Validation Accuracy with Best Hyperparameters:\", best_results['val_accuracy'])"
   ]
  },
  {
   "cell_type": "markdown",
   "id": "a41634e5-299a-4dc1-983a-012286d61030",
   "metadata": {},
   "source": [
    "Here learning rate of 0.001 appears to be best. Let's tune weight decay."
   ]
  },
  {
   "cell_type": "code",
   "execution_count": 24,
   "id": "5c1af399-80ec-4a38-b6ea-2a11fab0dbbb",
   "metadata": {},
   "outputs": [
    {
     "name": "stdout",
     "output_type": "stream",
     "text": [
      "n_hidden1: 15 n_hidden2: 25 kernel_size: 5 dropout_rate: 0.1 lr: 0.001 weight_decay: 0 activation: <function relu at 0x75fc7545a430>\n",
      "Validation Accuracy: 0.9898333333333333\n",
      "n_hidden1: 15 n_hidden2: 25 kernel_size: 5 dropout_rate: 0.1 lr: 0.001 weight_decay: 0.001 activation: <function relu at 0x75fc7545a430>\n",
      "Validation Accuracy: 0.9876666666666667\n",
      "n_hidden1: 15 n_hidden2: 25 kernel_size: 5 dropout_rate: 0.1 lr: 0.001 weight_decay: 0.0001 activation: <function relu at 0x75fc7545a430>\n",
      "Validation Accuracy: 0.9895\n",
      "n_hidden1: 15 n_hidden2: 25 kernel_size: 5 dropout_rate: 0.1 lr: 0.001 weight_decay: 1e-05 activation: <function relu at 0x75fc7545a430>\n",
      "Validation Accuracy: 0.9888333333333333\n",
      "#########################################################\n",
      "Best Hyperparameters: (15, 25, 5, 0.1, 0.001, 0, <function relu at 0x75fc7545a430>)\n",
      "Validation Accuracy with Best Hyperparameters: 0.9898333333333333\n"
     ]
    }
   ],
   "source": [
    "## Tuning weight decay\n",
    "\n",
    "# Hyperparameters\n",
    "hyperparameters= {\n",
    "    'n_hidden1': [15],       # Number of filters in first conv layer\n",
    "    'n_hidden2': [25],      # Number of filters in second conv layer\n",
    "    'kernel_size': [5],          # Kernel size for conv layers\n",
    "    'dropout_rate': [0.1],     # Dropout rate\n",
    "    'lr': [ 0.001],          # Learning rate\n",
    "    'weight_decay': [0,0.001,0.0001,0.00001],       # Weight regularization (L2 penalty)\n",
    "    'acitvation':[F.relu]     #activation\n",
    "}\n",
    "\n",
    "# Results dictionary \n",
    "results = {}\n",
    "\n",
    "device = torch.device('cuda' if torch.cuda.is_available() else 'cpu')\n",
    "\n",
    "for n_hidden1 in hyperparameters['n_hidden1']:\n",
    "    for n_hidden2 in hyperparameters['n_hidden2']:\n",
    "        for kernel_size in hyperparameters['kernel_size']:\n",
    "            for dropout_rate in hyperparameters['dropout_rate']:\n",
    "                for lr in hyperparameters['lr']:\n",
    "                    for weight_decay in hyperparameters['weight_decay']:\n",
    "                        for activation in hyperparameters['acitvation']:\n",
    "                            print('n_hidden1:',n_hidden1,'n_hidden2:',n_hidden2,'kernel_size:',kernel_size,'dropout_rate:',dropout_rate,'lr:',lr,'weight_decay:',weight_decay,'activation:',activation)\n",
    "                            \n",
    "                            # Define model with the current set of hyperparameters\n",
    "                            model = CNN(\n",
    "                                in_channels=1,\n",
    "                                n_hidden1=n_hidden1,\n",
    "                                n_hidden2=n_hidden2,\n",
    "                                kernel_size=kernel_size,\n",
    "                                dropout_rate=dropout_rate,\n",
    "                                activation=activation\n",
    "                            ).to(device)\n",
    "                            \n",
    "                            optimizer = optim.Adam(model.parameters(), lr=lr, weight_decay=weight_decay)\n",
    "                            loss_fn = nn.CrossEntropyLoss()\n",
    "                            n_epochs = 10  \n",
    "                            val_loss = []\n",
    "                            val_accuracy = []\n",
    "\n",
    "                            for epoch in range(n_epochs):\n",
    "                                \n",
    "                                # Training\n",
    "                                model.train()\n",
    "                                for batch, (X, y) in enumerate(train_loader):\n",
    "                                    X, y = X.to(device), y.to(device)\n",
    "                                    optimizer.zero_grad()\n",
    "                                    preds = model(X)\n",
    "                                    loss = loss_fn(preds, y)\n",
    "                                    loss.backward()\n",
    "                                    optimizer.step()\n",
    "\n",
    "                                # Validation\n",
    "                                model.eval()\n",
    "                                correct_val = 0\n",
    "                                total_val = 0\n",
    "                                epoch_val_loss = []\n",
    "                                with torch.no_grad():\n",
    "                                    for batch, (X, y) in enumerate(val_loader):\n",
    "                                        X, y = X.to(device), y.to(device)\n",
    "                                        preds = model(X)\n",
    "                                        loss = loss_fn(preds, y)\n",
    "                                        epoch_val_loss.append(loss.item())\n",
    "                                        \n",
    "                                        # Calculate accuracy\n",
    "                                        predicted = preds.argmax(dim=1, keepdim=True) \n",
    "                                        correct_val += predicted.eq(y.view_as(predicted)).sum().item()\n",
    "                                        total_val += y.size(0)\n",
    "\n",
    "                                val_loss.append(np.mean(epoch_val_loss))\n",
    "                                val_accuracy.append(correct_val / total_val)\n",
    "\n",
    "                            print('Validation Accuracy:',val_accuracy[-1])\n",
    "                            # Store results for this hyperparameter combination\n",
    "                            results[(n_hidden1, n_hidden2, kernel_size, dropout_rate, lr, weight_decay,activation)] = {\n",
    "                                'val_loss': val_loss[-1],\n",
    "                                'val_accuracy': val_accuracy[-1]\n",
    "                            }\n",
    "\n",
    "print('#########################################################')\n",
    "# Find the best hyperparameter combination based on validation accuracy\n",
    "best_hyperparams = max(results, key=lambda x: results[x]['val_accuracy'])\n",
    "best_results = results[best_hyperparams]\n",
    "\n",
    "print(\"Best Hyperparameters:\", best_hyperparams)\n",
    "print(\"Validation Accuracy with Best Hyperparameters:\", best_results['val_accuracy'])"
   ]
  },
  {
   "cell_type": "markdown",
   "id": "6b4f4f02-4d4b-462a-823c-079023124461",
   "metadata": {},
   "source": [
    "For weight decay of 0 validation accuracy appears best. Let's tune activation function."
   ]
  },
  {
   "cell_type": "code",
   "execution_count": 25,
   "id": "2a2cfcec-a9cd-4085-add6-3243573b19ab",
   "metadata": {},
   "outputs": [
    {
     "name": "stdout",
     "output_type": "stream",
     "text": [
      "n_hidden1: 15 n_hidden2: 25 kernel_size: 5 dropout_rate: 0.1 lr: 0.001 weight_decay: 0 activation: <function relu at 0x75fc7545a430>\n",
      "Validation Accuracy: 0.9875833333333334\n",
      "n_hidden1: 15 n_hidden2: 25 kernel_size: 5 dropout_rate: 0.1 lr: 0.001 weight_decay: 0 activation: <function tanh at 0x75fc7545ad30>\n",
      "Validation Accuracy: 0.9860833333333333\n",
      "n_hidden1: 15 n_hidden2: 25 kernel_size: 5 dropout_rate: 0.1 lr: 0.001 weight_decay: 0 activation: <function sigmoid at 0x75fc7545adc0>\n",
      "Validation Accuracy: 0.98275\n",
      "#########################################################\n",
      "Best Hyperparameters: (15, 25, 5, 0.1, 0.001, 0, <function relu at 0x75fc7545a430>)\n",
      "Validation Accuracy with Best Hyperparameters: 0.9875833333333334\n"
     ]
    }
   ],
   "source": [
    "## Tuning activation function\n",
    "\n",
    "# Hyperparameters\n",
    "hyperparameters= {\n",
    "    'n_hidden1': [15],       # Number of filters in first conv layer\n",
    "    'n_hidden2': [25],      # Number of filters in second conv layer\n",
    "    'kernel_size': [5],          # Kernel size for conv layers\n",
    "    'dropout_rate': [0.1],     # Dropout rate\n",
    "    'lr': [ 0.001],          # Learning rate\n",
    "    'weight_decay': [0],       # Weight regularization (L2 penalty)\n",
    "    'acitvation':[F.relu,F.tanh,F.sigmoid]     #activation\n",
    "}\n",
    "\n",
    "# Results dictionary \n",
    "results = {}\n",
    "\n",
    "device = torch.device('cuda' if torch.cuda.is_available() else 'cpu')\n",
    "\n",
    "for n_hidden1 in hyperparameters['n_hidden1']:\n",
    "    for n_hidden2 in hyperparameters['n_hidden2']:\n",
    "        for kernel_size in hyperparameters['kernel_size']:\n",
    "            for dropout_rate in hyperparameters['dropout_rate']:\n",
    "                for lr in hyperparameters['lr']:\n",
    "                    for weight_decay in hyperparameters['weight_decay']:\n",
    "                        for activation in hyperparameters['acitvation']:\n",
    "                            print('n_hidden1:',n_hidden1,'n_hidden2:',n_hidden2,'kernel_size:',kernel_size,'dropout_rate:',dropout_rate,'lr:',lr,'weight_decay:',weight_decay,'activation:',activation)\n",
    "                            \n",
    "                            # Define model with the current set of hyperparameters\n",
    "                            model = CNN(\n",
    "                                in_channels=1,\n",
    "                                n_hidden1=n_hidden1,\n",
    "                                n_hidden2=n_hidden2,\n",
    "                                kernel_size=kernel_size,\n",
    "                                dropout_rate=dropout_rate,\n",
    "                                activation=activation\n",
    "                            ).to(device)\n",
    "                            \n",
    "                            optimizer = optim.Adam(model.parameters(), lr=lr, weight_decay=weight_decay)\n",
    "                            loss_fn = nn.CrossEntropyLoss()\n",
    "                            n_epochs = 10  \n",
    "                            val_loss = []\n",
    "                            val_accuracy = []\n",
    "\n",
    "                            for epoch in range(n_epochs):\n",
    "                                \n",
    "                                # Training\n",
    "                                model.train()\n",
    "                                for batch, (X, y) in enumerate(train_loader):\n",
    "                                    X, y = X.to(device), y.to(device)\n",
    "                                    optimizer.zero_grad()\n",
    "                                    preds = model(X)\n",
    "                                    loss = loss_fn(preds, y)\n",
    "                                    loss.backward()\n",
    "                                    optimizer.step()\n",
    "\n",
    "                                # Validation\n",
    "                                model.eval()\n",
    "                                correct_val = 0\n",
    "                                total_val = 0\n",
    "                                epoch_val_loss = []\n",
    "                                with torch.no_grad():\n",
    "                                    for batch, (X, y) in enumerate(val_loader):\n",
    "                                        X, y = X.to(device), y.to(device)\n",
    "                                        preds = model(X)\n",
    "                                        loss = loss_fn(preds, y)\n",
    "                                        epoch_val_loss.append(loss.item())\n",
    "                                        \n",
    "                                        # Calculate accuracy\n",
    "                                        predicted = preds.argmax(dim=1, keepdim=True) \n",
    "                                        correct_val += predicted.eq(y.view_as(predicted)).sum().item()\n",
    "                                        total_val += y.size(0)\n",
    "\n",
    "                                val_loss.append(np.mean(epoch_val_loss))\n",
    "                                val_accuracy.append(correct_val / total_val)\n",
    "\n",
    "                            print('Validation Accuracy:',val_accuracy[-1])\n",
    "                            # Store results for this hyperparameter combination\n",
    "                            results[(n_hidden1, n_hidden2, kernel_size, dropout_rate, lr, weight_decay,activation)] = {\n",
    "                                'val_loss': val_loss[-1],\n",
    "                                'val_accuracy': val_accuracy[-1]\n",
    "                            }\n",
    "\n",
    "print('#########################################################')\n",
    "# Find the best hyperparameter combination based on validation accuracy\n",
    "best_hyperparams = max(results, key=lambda x: results[x]['val_accuracy'])\n",
    "best_results = results[best_hyperparams]\n",
    "\n",
    "print(\"Best Hyperparameters:\", best_hyperparams)\n",
    "print(\"Validation Accuracy with Best Hyperparameters:\", best_results['val_accuracy'])"
   ]
  },
  {
   "cell_type": "markdown",
   "id": "e944ba3e-5746-4ea6-9b35-4492d162de3e",
   "metadata": {},
   "source": [
    "Relu activation function comes out to be best here. "
   ]
  },
  {
   "cell_type": "markdown",
   "id": "8218fabd-ea40-461c-b34b-2bc99931d9fd",
   "metadata": {},
   "source": [
    "##### From the above hyperparameter tuning below are the best parameters:\n",
    "\n",
    "n_hidden1 = 15,\n",
    "n_hidden2 = 25,\n",
    "kernel_size = 5,\n",
    "dropout_rate = 0.1,\n",
    "learning rate = 0.001,\n",
    "weight_decay = 0,\n",
    "Activation function = Relu,\n",
    "Optimizer = Adam\n",
    "\n",
    "let's use these parameters to train our model using entire training dataset"
   ]
  },
  {
   "cell_type": "code",
   "execution_count": 39,
   "id": "3027632f-838e-4988-a6c3-d884a77fd57a",
   "metadata": {},
   "outputs": [
    {
     "name": "stderr",
     "output_type": "stream",
     "text": [
      "100%|████████████████████████████████████████████████████████████████████████████████████████████████████| 50/50 [02:05<00:00,  2.51s/it]\n"
     ]
    }
   ],
   "source": [
    "model = CNN(\n",
    "in_channels=1,\n",
    "n_hidden1=15,\n",
    "n_hidden2=25,\n",
    "kernel_size=5,\n",
    "dropout_rate=0.1,\n",
    "activation=F.relu \n",
    ").to(device)\n",
    "\n",
    "# Define optimizer and loss function\n",
    "optimizer = optim.Adam(\n",
    "model.parameters(), lr=0.001, weight_decay=0\n",
    ")\n",
    "loss_fn = nn.CrossEntropyLoss()\n",
    "\n",
    "n_epochs = 50\n",
    "train_loss_final= []\n",
    "train_accuracy_final = []\n",
    "\n",
    "for epoch in tqdm(range(n_epochs)):\n",
    "    # Training\n",
    "    model.train()\n",
    "    epoch_train_loss = []\n",
    "    correct_train = 0\n",
    "    total_train = 0\n",
    "    for batch, (X, y) in enumerate(full_loader):\n",
    "        X, y = X.to(device), y.to(device)\n",
    "        preds = model(X)\n",
    "        loss = loss_fn(preds, y)\n",
    "\n",
    "        optimizer.zero_grad()\n",
    "        loss.backward()\n",
    "        optimizer.step()\n",
    "\n",
    "        epoch_train_loss.append(loss.item())\n",
    "        \n",
    "        # Calculate accuracy\n",
    "        predicted = preds.argmax(dim=1, keepdim=True) \n",
    "        correct_train += predicted.eq(y.view_as(predicted)).sum().item()\n",
    "        total_train += y.size(0)\n",
    "\n",
    "    train_loss_final.append(np.mean(epoch_train_loss))\n",
    "    train_accuracy_final.append(correct_train / total_train)  # Training accuracy\n",
    "\n",
    "\n",
    "# Convert lists to numpy arrays if needed\n",
    "train_loss_final = np.array(train_loss_final)\n",
    "\n",
    "train_accuracy_final = np.array(train_accuracy_final)\n"
   ]
  },
  {
   "cell_type": "code",
   "execution_count": 40,
   "id": "30cfd4ee-4f1f-400e-96a4-7df4fd6b0c1b",
   "metadata": {},
   "outputs": [
    {
     "name": "stdout",
     "output_type": "stream",
     "text": [
      "Accuracy from step 3: 0.9881666666666666\n",
      "Accuracy from using the best hyperparameters: 0.9910166666666667\n"
     ]
    }
   ],
   "source": [
    "print('Accuracy from step 3:',val_accuracy_adam[-1])\n",
    "print('Accuracy from using the best hyperparameters:',train_accuracy_final[-1])"
   ]
  },
  {
   "cell_type": "markdown",
   "id": "0e66695b-9928-4dcb-b5bb-5d76fa248364",
   "metadata": {},
   "source": [
    "Overall there is a slight increase in the accuracy using the best hyperparameters."
   ]
  },
  {
   "cell_type": "markdown",
   "id": "45abae76-8383-4576-ab89-6932767a9655",
   "metadata": {},
   "source": [
    "#### Predicting labels for the test data"
   ]
  },
  {
   "cell_type": "code",
   "execution_count": 41,
   "id": "d54f7fa3-f4d7-437a-adf2-adda91eadc3c",
   "metadata": {},
   "outputs": [],
   "source": [
    "\n",
    "# Load the test dataset\n",
    "x_test = np.load('x_test.npy')\n",
    "x_test = x_test.reshape(-1, 1, 28, 28)  # Reshape \n",
    "\n",
    "# Convert to PyTorch tensor\n",
    "x_test_tensor = torch.tensor(x_test, dtype=torch.float32)\n",
    "\n",
    "# Create DataLoader for test data \n",
    "test_loader = DataLoader(x_test_tensor, batch_size=64, shuffle=False)\n"
   ]
  },
  {
   "cell_type": "code",
   "execution_count": 42,
   "id": "65672bd7-bc1d-401d-b81a-fe4a4433ba3f",
   "metadata": {},
   "outputs": [],
   "source": [
    "# Testing\n",
    "model.eval()\n",
    "\n",
    "# List to store predictions\n",
    "y_test_pred = []\n",
    "\n",
    "# Disable gradient calculation for inference\n",
    "with torch.no_grad():\n",
    "    for X in test_loader:\n",
    "        X = X.to(device)\n",
    "        \n",
    "        # Get predictions\n",
    "        preds = model(X)\n",
    "        \n",
    "        # Get predicted labels \n",
    "        _, predicted = torch.max(preds, 1)\n",
    "        \n",
    "        # Append predictions to list\n",
    "        y_test_pred.extend(predicted.cpu().numpy())\n",
    "\n",
    "# Convert predictions to a numpy array\n",
    "y_test_pred = np.array(y_test_pred)\n",
    "\n"
   ]
  },
  {
   "cell_type": "code",
   "execution_count": 43,
   "id": "8cfd6024-e34b-4de9-8cf6-5099e29b86ad",
   "metadata": {},
   "outputs": [],
   "source": [
    "import pandas as pd\n",
    "\n",
    "df = pd.DataFrame({\"pred_cnn\":y_test_pred})\n",
    "df.to_csv(\"preds.csv\")"
   ]
  },
  {
   "cell_type": "code",
   "execution_count": null,
   "id": "235096eb-8716-40ba-b4cc-69922c9a6231",
   "metadata": {},
   "outputs": [],
   "source": []
  }
 ],
 "metadata": {
  "kernelspec": {
   "display_name": "Python 3 (ipykernel)",
   "language": "python",
   "name": "python3"
  },
  "language_info": {
   "codemirror_mode": {
    "name": "ipython",
    "version": 3
   },
   "file_extension": ".py",
   "mimetype": "text/x-python",
   "name": "python",
   "nbconvert_exporter": "python",
   "pygments_lexer": "ipython3",
   "version": "3.9.12"
  }
 },
 "nbformat": 4,
 "nbformat_minor": 5
}
